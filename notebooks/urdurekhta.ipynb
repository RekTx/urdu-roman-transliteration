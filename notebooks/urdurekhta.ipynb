{
 "cells": [
  {
   "cell_type": "markdown",
   "metadata": {},
   "source": [
    "# Roll Number\n",
    "22F-3078 - Yahya Asif\n",
    "22F-3387 - Ghayas Hussain\n",
    "\n",
    "# Complete Urdu to Roman Transliteration with BiLSTM Seq2Seq Model\n",
    "\n",
    "This notebook implements a sequence-to-sequence model with BiLSTM for transliterating Urdu text to Roman script. The implementation includes:\n",
    "- Custom BPE tokenization implementation from scratch\n",
    "- Encoder: 2-layer BiLSTM\n",
    "- Decoder: 4-layer LSTM\n",
    "- Teacher forcing during training\n",
    "- Comprehensive evaluation with BLEU, CER, WER, and perplexity metrics\n",
    "- Hyperparameter experiments to find the best model configuration"
   ]
  },
  {
   "cell_type": "code",
   "execution_count": 2,
   "metadata": {
    "execution": {
     "iopub.execute_input": "2025-09-21T14:33:33.880656Z",
     "iopub.status.busy": "2025-09-21T14:33:33.879882Z",
     "iopub.status.idle": "2025-09-21T14:33:33.888619Z",
     "shell.execute_reply": "2025-09-21T14:33:33.887993Z",
     "shell.execute_reply.started": "2025-09-21T14:33:33.880620Z"
    },
    "trusted": true
   },
   "outputs": [
    {
     "name": "stdout",
     "output_type": "stream",
     "text": [
      "Using device: cuda\n"
     ]
    }
   ],
   "source": [
    "# 0. Setup and Imports\n",
    "import torch\n",
    "import torch.nn as nn\n",
    "import torch.nn.utils.rnn as rnn_utils\n",
    "from torch.utils.data import Dataset, DataLoader\n",
    "import re\n",
    "import os\n",
    "import glob\n",
    "import time\n",
    "from tqdm import tqdm\n",
    "import matplotlib.pyplot as plt\n",
    "import numpy as np\n",
    "import json\n",
    "import math\n",
    "import random\n",
    "from collections import defaultdict, Counter\n",
    "\n",
    "# Set random seeds for reproducibility\n",
    "torch.manual_seed(42)\n",
    "np.random.seed(42)\n",
    "random.seed(42)\n",
    "\n",
    "# Check CUDA availability\n",
    "device = torch.device(\"cuda\" if torch.cuda.is_available() else \"cpu\")\n",
    "print(f\"Using device: {device}\")"
   ]
  },
  {
   "cell_type": "markdown",
   "metadata": {},
   "source": [
    "# 1. Clone and Prepare Dataset"
   ]
  },
  {
   "cell_type": "code",
   "execution_count": 4,
   "metadata": {
    "collapsed": true,
    "execution": {
     "iopub.execute_input": "2025-09-21T14:33:33.916333Z",
     "iopub.status.busy": "2025-09-21T14:33:33.916088Z",
     "iopub.status.idle": "2025-09-21T14:33:35.054408Z",
     "shell.execute_reply": "2025-09-21T14:33:35.053513Z",
     "shell.execute_reply.started": "2025-09-21T14:33:33.916316Z"
    },
    "jupyter": {
     "outputs_hidden": true
    },
    "trusted": true
   },
   "outputs": [
    {
     "name": "stdout",
     "output_type": "stream",
     "text": [
      "Data directory exists: True\n",
      "Contents of data directory: ['.DS_Store', 'ahmad-faraz', 'akbar-allahabadi', 'allama-iqbal', 'altaf-hussain-hali', 'ameer-khusrau', 'bahadur-shah-zafar', 'dagh-dehlvi', 'fahmida-riaz', 'faiz-ahmad-faiz', 'firaq-gorakhpuri', 'gulzar', 'habib-jalib', 'jaan-nisar-akhtar', 'jaun-eliya', 'javed-akhtar', 'jigar-moradabadi', 'kaifi-azmi', 'meer-anees', 'meer-taqi-meer', 'mirza-ghalib', 'mohsin-naqvi', 'naji-shakir', 'naseer-turabi', 'nazm-tabatabai', 'nida-fazli', 'noon-meem-rashid', 'parveen-shakir', 'sahir-ludhianvi', 'wali-mohammad-wali', 'waseem-barelvi']\n",
      "Number of authors: 31\n",
      "Total paired lines: 22158\n"
     ]
    }
   ],
   "source": [
    "# Set the path to the extracted dataset\n",
    "DATA_DIR = \"data/raw/rekhta/dataset/dataset\"\n",
    "\n",
    "# Verify the data directory exists\n",
    "import os\n",
    "print(f\"Data directory exists: {os.path.exists(DATA_DIR)}\")\n",
    "print(f\"Contents of data directory: {os.listdir(DATA_DIR)}\")\n",
    "\n",
    "# Authors list\n",
    "authors = os.listdir(DATA_DIR)\n",
    "print(f\"Number of authors: {len(authors)}\")\n",
    "\n",
    "# Prepare lists to store Urdu-Roman pairs\n",
    "pairs_with_file = []\n",
    "\n",
    "# Load Urdu and Roman Urdu pairs\n",
    "for author in authors:\n",
    "    ur_path = os.path.join(DATA_DIR, author, \"ur\")\n",
    "    en_path = os.path.join(DATA_DIR, author, \"en\")\n",
    "\n",
    "    if not os.path.exists(ur_path) or not os.path.exists(en_path):\n",
    "        continue\n",
    "\n",
    "    ur_files = glob.glob(os.path.join(ur_path, \"*\"))\n",
    "\n",
    "    for ufile in ur_files:\n",
    "        fname = os.path.basename(ufile)\n",
    "        efile = os.path.join(en_path, fname)\n",
    "\n",
    "        if not os.path.exists(efile):\n",
    "            continue\n",
    "\n",
    "        with open(ufile, \"r\", encoding=\"utf-8\") as f:\n",
    "            ur_lines = f.read().splitlines()\n",
    "\n",
    "        with open(efile, \"r\", encoding=\"utf-8\") as f:\n",
    "            en_lines = f.read().splitlines()\n",
    "\n",
    "        # Ensure same number of lines\n",
    "        if len(ur_lines) != len(en_lines):\n",
    "            continue\n",
    "\n",
    "        # Store pairs\n",
    "        for ur, en in zip(ur_lines, en_lines):\n",
    "            pairs_with_file.append({\n",
    "                \"ur_raw\": ur.strip(),\n",
    "                \"en_raw\": en.strip()\n",
    "            })\n",
    "\n",
    "print(f\"Total paired lines: {len(pairs_with_file)}\")"
   ]
  },
  {
   "cell_type": "markdown",
   "metadata": {},
   "source": [
    "# 2. Data Preprocessing"
   ]
  },
  {
   "cell_type": "code",
   "execution_count": 5,
   "metadata": {
    "execution": {
     "iopub.execute_input": "2025-09-21T14:33:35.056412Z",
     "iopub.status.busy": "2025-09-21T14:33:35.055958Z",
     "iopub.status.idle": "2025-09-21T14:33:35.288778Z",
     "shell.execute_reply": "2025-09-21T14:33:35.288095Z",
     "shell.execute_reply.started": "2025-09-21T14:33:35.056388Z"
    },
    "trusted": true
   },
   "outputs": [
    {
     "name": "stdout",
     "output_type": "stream",
     "text": [
      "Data preprocessing completed.\n"
     ]
    }
   ],
   "source": [
    "# Normalize Urdu\n",
    "def normalize_urdu(text: str) -> str:\n",
    "    \"\"\"\n",
    "    Normalize Urdu text:\n",
    "    - Remove extra spaces\n",
    "    - Normalize certain characters like 'ۀ', 'ہ', etc.\n",
    "    \"\"\"\n",
    "    # Remove unwanted punctuation\n",
    "    text = re.sub(r\"[ۂٰٖؔؕ]\", \"\", text)\n",
    "\n",
    "    # Replace Arabic-Indic digits with normal digits\n",
    "    text = re.sub(r\"[۰-۹]\", lambda x: str(ord(x.group()) - 1776), text)\n",
    "\n",
    "    # Normalize spaces\n",
    "    text = re.sub(r\"\\s+\", \" \", text).strip()\n",
    "\n",
    "    return text\n",
    "\n",
    "# Apply normalization\n",
    "for p in pairs_with_file:\n",
    "    p[\"ur_norm\"] = normalize_urdu(p[\"ur_raw\"])\n",
    "\n",
    "# Clean Roman Urdu\n",
    "def clean_roman_safe(text: str) -> str:\n",
    "    \"\"\"\n",
    "    Keep all diacritics, long vowels, nasalization.\n",
    "    Only:\n",
    "      - Lowercase\n",
    "      - Normalize spaces\n",
    "      - Replace fancy quotes/dashes\n",
    "    \"\"\"\n",
    "    text = text.lower()\n",
    "    text = text.replace(\"'\", \"'\").replace(\"'\", \"'\")\n",
    "    text = text.replace(\"\"\", '\"').replace(\"\"\", '\"')\n",
    "    text = text.replace(\"–\", \"-\").replace(\"—\", \"-\")\n",
    "    text = text.replace(\"…\", \"...\")\n",
    "    text = re.sub(r\"\\s+\", \" \", text).strip()\n",
    "    return text\n",
    "\n",
    "# Apply safe cleaning\n",
    "for p in pairs_with_file:\n",
    "    p[\"en_clean\"] = clean_roman_safe(p[\"en_raw\"])\n",
    "\n",
    "# Save processed data\n",
    "os.makedirs(\"data/processed\", exist_ok=True)\n",
    "\n",
    "with open(\"data/processed/source.txt\", \"w\", encoding=\"utf-8\") as fs, \\\n",
    "     open(\"data/processed/target.txt\", \"w\", encoding=\"utf-8\") as ft:\n",
    "    for p in pairs_with_file:\n",
    "        fs.write(p[\"ur_norm\"] + \"\\n\")\n",
    "        ft.write(p[\"en_clean\"] + \"\\n\")\n",
    "\n",
    "print(\"Data preprocessing completed.\")"
   ]
  },
  {
   "cell_type": "markdown",
   "metadata": {},
   "source": [
    "# 3. Implement BPE Tokenizer from Scratch"
   ]
  },
  {
   "cell_type": "code",
   "execution_count": 6,
   "metadata": {
    "execution": {
     "iopub.execute_input": "2025-09-21T14:33:35.289797Z",
     "iopub.status.busy": "2025-09-21T14:33:35.289547Z",
     "iopub.status.idle": "2025-09-21T14:33:35.304465Z",
     "shell.execute_reply": "2025-09-21T14:33:35.303538Z",
     "shell.execute_reply.started": "2025-09-21T14:33:35.289766Z"
    },
    "trusted": true
   },
   "outputs": [],
   "source": [
    "class BPETokenizer:\n",
    "    def __init__(self, vocab_size=10000, special_tokens=None):\n",
    "        self.vocab_size = vocab_size\n",
    "        self.special_tokens = special_tokens or [\"[PAD]\", \"[UNK]\", \"[CLS]\", \"[SEP]\"]\n",
    "        self.vocab = {}\n",
    "        self.merges = []\n",
    "        self.word_freqs = {}\n",
    "        self.token_to_id = {}\n",
    "        self.id_to_token = {}\n",
    "    \n",
    "    def train(self, texts):\n",
    "        # Initialize vocabulary with characters\n",
    "        vocab = set()\n",
    "        for text in texts:\n",
    "            for word in text.split():\n",
    "                word = \" \".join(list(word)) + \" </w>\"\n",
    "                vocab.update(word.split())\n",
    "        \n",
    "        # Add special tokens\n",
    "        for token in self.special_tokens:\n",
    "            vocab.add(token)\n",
    "        \n",
    "        # Create initial vocabulary\n",
    "        self.vocab = list(vocab)\n",
    "        self.token_to_id = {token: i for i, token in enumerate(self.vocab)}\n",
    "        self.id_to_token = {i: token for i, token in enumerate(self.vocab)}\n",
    "        \n",
    "        # Count word frequencies\n",
    "        word_freqs = Counter()\n",
    "        for text in texts:\n",
    "            for word in text.split():\n",
    "                word = \" \".join(list(word)) + \" </w>\"\n",
    "                word_freqs[word] += 1\n",
    "        \n",
    "        # Perform BPE merges\n",
    "        num_merges = self.vocab_size - len(self.vocab)\n",
    "        for i in range(num_merges):\n",
    "            # Find most frequent pair\n",
    "            pairs = self.get_stats(word_freqs)\n",
    "            if not pairs:\n",
    "                break\n",
    "            best_pair = max(pairs, key=pairs.get)\n",
    "            \n",
    "            # Merge the most frequent pair\n",
    "            word_freqs = self.merge_vocab(best_pair, word_freqs)\n",
    "            self.merges.append(best_pair)\n",
    "            \n",
    "            # Update vocabulary\n",
    "            new_token = best_pair[0] + best_pair[1]\n",
    "            if new_token not in self.token_to_id:\n",
    "                self.token_to_id[new_token] = len(self.token_to_id)\n",
    "                self.id_to_token[len(self.id_to_token)] = new_token\n",
    "    \n",
    "    def get_stats(self, vocab):\n",
    "        pairs = defaultdict(int)\n",
    "        for word, freq in vocab.items():\n",
    "            symbols = word.split()\n",
    "            for i in range(len(symbols)-1):\n",
    "                pairs[symbols[i], symbols[i+1]] += freq\n",
    "        return pairs\n",
    "    \n",
    "    def merge_vocab(self, pair, vocab):\n",
    "        new_vocab = {}\n",
    "        bigram = re.escape(' '.join(pair))\n",
    "        p = re.compile(r'(?<!\\S)' + bigram + r'(?=!\\S)')\n",
    "        for word in vocab:\n",
    "            new_word = p.sub(''.join(pair), word)\n",
    "            new_vocab[new_word] = vocab[word]\n",
    "        return new_vocab\n",
    "    \n",
    "    def encode(self, text):\n",
    "        \"\"\"Convert text to token IDs\"\"\"\n",
    "        tokens = []\n",
    "        for word in text.split():\n",
    "            word = \" \".join(list(word)) + \" </w>\"\n",
    "            \n",
    "            # Apply all merges\n",
    "            for merge in self.merges:\n",
    "                bigram = re.escape(' '.join(merge))\n",
    "                p = re.compile(r'(?<!\\S)' + bigram + r'(?=!\\S)')\n",
    "                word = p.sub(''.join(merge), word)\n",
    "            \n",
    "            # Split into tokens and convert to IDs\n",
    "            subwords = word.split()\n",
    "            for subword in subwords:\n",
    "                if subword in self.token_to_id:\n",
    "                    tokens.append(self.token_to_id[subword])\n",
    "                else:\n",
    "                    tokens.append(self.token_to_id[\"[UNK]\"])\n",
    "        \n",
    "        return tokens\n",
    "    \n",
    "    def decode(self, ids):\n",
    "        \"\"\"Convert token IDs back to text\"\"\"\n",
    "        tokens = []\n",
    "        for id in ids:\n",
    "            if id in self.id_to_token:\n",
    "                token = self.id_to_token[id]\n",
    "                # Remove </w> and spaces between subwords\n",
    "                if token == \"</w>\":\n",
    "                    continue\n",
    "                if token.startswith(\"##\"):\n",
    "                    tokens.append(token[2:])\n",
    "                else:\n",
    "                    tokens.append(token.replace(\" \", \"\"))\n",
    "        \n",
    "        # Combine tokens into words\n",
    "        text = \"\".join(tokens)\n",
    "        return text\n",
    "    \n",
    "    def save(self, path):\n",
    "        data = {\n",
    "            \"vocab_size\": self.vocab_size,\n",
    "            \"special_tokens\": self.special_tokens,\n",
    "            \"merges\": self.merges,\n",
    "            \"token_to_id\": self.token_to_id,\n",
    "            \"id_to_token\": self.id_to_token\n",
    "        }\n",
    "        with open(path, 'w', encoding='utf-8') as f:\n",
    "            json.dump(data, f, ensure_ascii=False)\n",
    "    \n",
    "    @classmethod\n",
    "    def load(cls, path):\n",
    "        with open(path, 'r', encoding='utf-8') as f:\n",
    "            data = json.load(f)\n",
    "        \n",
    "        tokenizer = cls(data[\"vocab_size\"], data[\"special_tokens\"])\n",
    "        tokenizer.merges = [tuple(merge) for merge in data[\"merges\"]]\n",
    "        tokenizer.token_to_id = {k: v for k, v in data[\"token_to_id\"].items()}\n",
    "        tokenizer.id_to_token = {int(k): v for k, v in data[\"id_to_token\"].items()}\n",
    "        return tokenizer"
   ]
  },
  {
   "cell_type": "markdown",
   "metadata": {},
   "source": [
    "# 4. Train BPE Tokenizer"
   ]
  },
  {
   "cell_type": "code",
   "execution_count": 7,
   "metadata": {
    "execution": {
     "iopub.execute_input": "2025-09-21T14:33:35.306304Z",
     "iopub.status.busy": "2025-09-21T14:33:35.306096Z",
     "iopub.status.idle": "2025-09-21T14:48:05.983525Z",
     "shell.execute_reply": "2025-09-21T14:48:05.982850Z",
     "shell.execute_reply.started": "2025-09-21T14:33:35.306280Z"
    },
    "trusted": true
   },
   "outputs": [
    {
     "name": "stdout",
     "output_type": "stream",
     "text": [
      "Training BPE tokenizer...\n",
      "Vocabulary size: 98\n",
      "Source: \n",
      "Source tokens: []\n",
      "Target: \n",
      "Target tokens: []\n",
      "---\n",
      "Source: آنکھ سے دور نہ ہو دل سے اتر جائے گا\n",
      "Source tokens: [52, 86, 76, 38, 21, 20, 68, 21, 26, 92, 48, 21, 86, 23, 21, 23, 92, 21, 26, 41, 21, 20, 68, 21, 56, 72, 48, 21, 17, 56, 74, 68, 21, 57, 56, 21]\n",
      "Target: aañkh se duur na ho dil se utar jā.egā\n",
      "Target tokens: [1, 1, 44, 39, 35, 21, 4, 14, 21, 30, 50, 50, 51, 21, 53, 1, 21, 35, 36, 21, 30, 71, 42, 21, 4, 14, 21, 50, 6, 1, 51, 21, 9, 82, 12, 14, 84, 82, 21]\n",
      "---\n",
      "Source: وقت کا کیا ہے گزرتا ہے گزر جائے گا\n",
      "Source tokens: [92, 11, 72, 21, 76, 56, 21, 76, 85, 56, 21, 23, 68, 21, 57, 45, 48, 72, 56, 21, 23, 68, 21, 57, 45, 48, 21, 17, 56, 74, 68, 21, 57, 56, 21]\n",
      "Target: vaqt kā kyā hai guzartā hai guzar jā.egā\n",
      "Target tokens: [31, 1, 46, 6, 21, 39, 82, 21, 39, 32, 82, 21, 35, 1, 71, 21, 84, 50, 79, 1, 51, 6, 82, 21, 35, 1, 71, 21, 84, 50, 79, 1, 51, 21, 9, 82, 12, 14, 84, 82, 21]\n",
      "---\n"
     ]
    }
   ],
   "source": [
    "# Prepare training data\n",
    "source_texts = [p[\"ur_norm\"] for p in pairs_with_file]\n",
    "target_texts = [p[\"en_clean\"] for p in pairs_with_file]\n",
    "all_texts = source_texts + target_texts\n",
    "\n",
    "# Initialize and train tokenizer\n",
    "tokenizer = BPETokenizer(vocab_size=10000)\n",
    "print(\"Training BPE tokenizer...\")\n",
    "tokenizer.train(all_texts)\n",
    "\n",
    "# Save tokenizer\n",
    "tokenizer.save(\"data/processed/bpe_tokenizer.json\")\n",
    "\n",
    "# Get special token IDs\n",
    "PAD_ID = tokenizer.token_to_id[\"[PAD]\"]\n",
    "CLS_ID = tokenizer.token_to_id[\"[CLS]\"]\n",
    "SEP_ID = tokenizer.token_to_id[\"[SEP]\"]\n",
    "UNK_ID = tokenizer.token_to_id[\"[UNK]\"]\n",
    "\n",
    "# Get vocab size\n",
    "vocab_size = len(tokenizer.token_to_id)\n",
    "print(f\"Vocabulary size: {vocab_size}\")\n",
    "\n",
    "# Example: encode first 3 lines\n",
    "for i in range(3):\n",
    "    source_encoded = tokenizer.encode(pairs_with_file[i][\"ur_norm\"])\n",
    "    target_encoded = tokenizer.encode(pairs_with_file[i][\"en_clean\"])\n",
    "    \n",
    "    print(f\"Source: {pairs_with_file[i]['ur_norm']}\")\n",
    "    print(f\"Source tokens: {source_encoded}\")\n",
    "    print(f\"Target: {pairs_with_file[i]['en_clean']}\")\n",
    "    print(f\"Target tokens: {target_encoded}\")\n",
    "    print(\"---\")"
   ]
  },
  {
   "cell_type": "markdown",
   "metadata": {},
   "source": [
    "# 5. Prepare Dataset and DataLoader"
   ]
  },
  {
   "cell_type": "code",
   "execution_count": 8,
   "metadata": {
    "execution": {
     "iopub.execute_input": "2025-09-21T15:45:53.883400Z",
     "iopub.status.busy": "2025-09-21T15:45:53.883075Z",
     "iopub.status.idle": "2025-09-21T17:27:02.635395Z",
     "shell.execute_reply": "2025-09-21T17:27:02.634635Z",
     "shell.execute_reply.started": "2025-09-21T15:45:53.883377Z"
    },
    "trusted": true
   },
   "outputs": [
    {
     "name": "stdout",
     "output_type": "stream",
     "text": [
      "Source shape: torch.Size([22158, 93])\n",
      "Target shape: torch.Size([22158, 105])\n",
      "Train size: 11079, Val size: 5539, Test size: 5540\n"
     ]
    }
   ],
   "source": [
    "# Encode sequences to IDs\n",
    "source_ids = [tokenizer.encode(p[\"ur_norm\"]) for p in pairs_with_file]\n",
    "target_ids = [tokenizer.encode(p[\"en_clean\"]) for p in pairs_with_file]\n",
    "\n",
    "# Add special tokens\n",
    "source_ids = [[CLS_ID] + seq + [SEP_ID] for seq in source_ids]\n",
    "target_ids = [[CLS_ID] + seq + [SEP_ID] for seq in target_ids]\n",
    "\n",
    "# Convert to torch tensors and pad\n",
    "source_tensors = [torch.tensor(seq) for seq in source_ids]\n",
    "target_tensors = [torch.tensor(seq) for seq in target_ids]\n",
    "\n",
    "# Pad sequences\n",
    "source_padded = rnn_utils.pad_sequence(source_tensors, batch_first=True, padding_value=PAD_ID)\n",
    "target_padded = rnn_utils.pad_sequence(target_tensors, batch_first=True, padding_value=PAD_ID)\n",
    "\n",
    "print(\"Source shape:\", source_padded.shape)\n",
    "print(\"Target shape:\", target_padded.shape)\n",
    "\n",
    "# Create PyTorch Dataset\n",
    "class Seq2SeqDataset(Dataset):\n",
    "    def __init__(self, src, tgt):\n",
    "        self.src = src\n",
    "        self.tgt = tgt\n",
    "\n",
    "    def __len__(self):\n",
    "        return self.src.size(0)\n",
    "\n",
    "    def __getitem__(self, idx):\n",
    "        return self.src[idx], self.tgt[idx]\n",
    "\n",
    "# Split dataset: 50% train, 25% val, 25% test\n",
    "N = len(source_padded)\n",
    "train_end = N//2\n",
    "val_end = train_end + N//4\n",
    "\n",
    "train_dataset = Seq2SeqDataset(source_padded[:train_end], target_padded[:train_end])\n",
    "val_dataset   = Seq2SeqDataset(source_padded[train_end:val_end], target_padded[train_end:val_end])\n",
    "test_dataset  = Seq2SeqDataset(source_padded[val_end:], target_padded[val_end:])\n",
    "\n",
    "train_loader = DataLoader(train_dataset, batch_size=32, shuffle=True)\n",
    "val_loader   = DataLoader(val_dataset, batch_size=32)\n",
    "test_loader  = DataLoader(test_dataset, batch_size=32)\n",
    "\n",
    "print(f\"Train size: {len(train_dataset)}, Val size: {len(val_dataset)}, Test size: {len(test_dataset)}\")"
   ]
  },
  {
   "cell_type": "markdown",
   "metadata": {},
   "source": [
    "# 6. Define Model Architecture"
   ]
  },
  {
   "cell_type": "code",
   "execution_count": 9,
   "metadata": {
    "execution": {
     "iopub.execute_input": "2025-09-21T17:27:02.681610Z",
     "iopub.status.busy": "2025-09-21T17:27:02.681406Z",
     "iopub.status.idle": "2025-09-21T17:27:02.703910Z",
     "shell.execute_reply": "2025-09-21T17:27:02.703428Z",
     "shell.execute_reply.started": "2025-09-21T17:27:02.681595Z"
    },
    "trusted": true
   },
   "outputs": [],
   "source": [
    "class Encoder(nn.Module):\n",
    "    def __init__(self, vocab_size, embed_size, hidden_size, num_layers=2, dropout=0.1):\n",
    "        super().__init__()\n",
    "        self.embedding = nn.Embedding(vocab_size, embed_size, padding_idx=PAD_ID)\n",
    "        self.num_layers = num_layers\n",
    "        self.hidden_size = hidden_size\n",
    "        # Bidirectional LSTM as required\n",
    "        self.lstm = nn.LSTM(\n",
    "            embed_size, hidden_size, num_layers=num_layers,\n",
    "            batch_first=True, dropout=dropout, bidirectional=True\n",
    "        )\n",
    "        # Projection layers for combining bidirectional states\n",
    "        self.h_projection = nn.Linear(2 * hidden_size, hidden_size)\n",
    "        self.c_projection = nn.Linear(2 * hidden_size, hidden_size)\n",
    "\n",
    "    def forward(self, src, src_len):\n",
    "        \"\"\"\n",
    "        src: [batch, src_len]\n",
    "        src_len: actual lengths (for packing)\n",
    "        \"\"\"\n",
    "        emb = self.embedding(src)\n",
    "        packed = rnn_utils.pack_padded_sequence(emb, src_len.cpu(), batch_first=True, enforce_sorted=False)\n",
    "        packed_out, (h, c) = self.lstm(packed)\n",
    "        out, _ = rnn_utils.pad_packed_sequence(packed_out, batch_first=True)\n",
    "        \n",
    "        # Combine forward and backward hidden states\n",
    "        # h and c are [2*num_layers, batch, hidden_size]\n",
    "        # We take the last layer's forward and backward states\n",
    "        h_forward = h[-2, :, :]  # Last layer forward\n",
    "        h_backward = h[-1, :, :]  # Last layer backward\n",
    "        h_combined = torch.cat((h_forward, h_backward), dim=1)  # [batch, 2*hidden_size]\n",
    "        h_projected = self.h_projection(h_combined)  # [batch, hidden_size]\n",
    "        \n",
    "        c_forward = c[-2, :, :]\n",
    "        c_backward = c[-1, :, :]\n",
    "        c_combined = torch.cat((c_forward, c_backward), dim=1)\n",
    "        c_projected = self.c_projection(c_combined)\n",
    "        \n",
    "        return out, (h_projected, c_projected)\n",
    "\n",
    "class Decoder(nn.Module):\n",
    "    def __init__(self, vocab_size, embed_size, hidden_size, num_layers=4, dropout=0.1):\n",
    "        super().__init__()\n",
    "        self.embedding = nn.Embedding(vocab_size, embed_size, padding_idx=PAD_ID)\n",
    "        self.num_layers = num_layers\n",
    "        self.hidden_size = hidden_size\n",
    "        # 4 stacked LSTM layers as required\n",
    "        self.lstm = nn.LSTM(embed_size, hidden_size, num_layers=num_layers,\n",
    "                            batch_first=True, dropout=dropout)\n",
    "        self.fc_out = nn.Linear(hidden_size, vocab_size)\n",
    "\n",
    "    def forward(self, tgt, hidden):\n",
    "        \"\"\"\n",
    "        tgt: [batch, tgt_len] (input tokens, e.g., <SOS> + previous tokens)\n",
    "        hidden: tuple (h, c) each [num_layers, batch, hidden_size]\n",
    "        \"\"\"\n",
    "        emb = self.embedding(tgt)\n",
    "        out, hidden = self.lstm(emb, hidden)\n",
    "        logits = self.fc_out(out)\n",
    "        return logits, hidden\n",
    "\n",
    "def init_decoder_hidden(enc_h, enc_c, num_layers_dec):\n",
    "    \"\"\"\n",
    "    Initialize decoder hidden state from encoder final state\n",
    "    Using identity mapping as required\n",
    "    \"\"\"\n",
    "    # enc_h and enc_c are now [batch, hidden_size] (after projection)\n",
    "    # Repeat for all decoder layers\n",
    "    dec_h = enc_h.unsqueeze(0).repeat(num_layers_dec, 1, 1)\n",
    "    dec_c = enc_c.unsqueeze(0).repeat(num_layers_dec, 1, 1)\n",
    "    return dec_h, dec_c"
   ]
  },
  {
   "cell_type": "markdown",
   "metadata": {},
   "source": [
    "# 7. Hyperparameter Experiments"
   ]
  },
  {
   "cell_type": "code",
   "execution_count": 10,
   "metadata": {
    "execution": {
     "iopub.execute_input": "2025-09-21T17:27:02.704747Z",
     "iopub.status.busy": "2025-09-21T17:27:02.704522Z",
     "iopub.status.idle": "2025-09-21T17:27:02.832660Z",
     "shell.execute_reply": "2025-09-21T17:27:02.832070Z",
     "shell.execute_reply.started": "2025-09-21T17:27:02.704724Z"
    },
    "trusted": true
   },
   "outputs": [],
   "source": [
    "# Define hyperparameter combinations to experiment with\n",
    "hyperparameter_configs = [\n",
    "    {\"name\": \"exp1\", \"embed_size\": 128, \"hidden_size\": 256, \"num_layers_enc\": 2, \"num_layers_dec\": 4, \"dropout\": 0.1, \"lr\": 1e-3, \"batch_size\": 32},\n",
    "    {\"name\": \"exp2\", \"embed_size\": 256, \"hidden_size\": 512, \"num_layers_enc\": 2, \"num_layers_dec\": 4, \"dropout\": 0.3, \"lr\": 5e-4, \"batch_size\": 64},\n",
    "    {\"name\": \"exp3\", \"embed_size\": 256, \"hidden_size\": 512, \"num_layers_enc\": 4, \"num_layers_dec\": 4, \"dropout\": 0.5, \"lr\": 1e-4, \"batch_size\": 128},\n",
    "]\n",
    "\n",
    "# Evaluation function\n",
    "def evaluate(encoder, decoder, dataloader, criterion, num_layers_dec):\n",
    "    encoder.eval()\n",
    "    decoder.eval()\n",
    "    total_loss = 0\n",
    "\n",
    "    with torch.no_grad():\n",
    "        for batch_src, batch_tgt in dataloader:\n",
    "            batch_src, batch_tgt = batch_src.to(device), batch_tgt.to(device)\n",
    "            batch_src_len = (batch_src != PAD_ID).sum(dim=1)\n",
    "\n",
    "            # Encoder forward pass\n",
    "            enc_out, (enc_h, enc_c) = encoder(batch_src, batch_src_len)\n",
    "\n",
    "            # Initialize decoder hidden state\n",
    "            dec_h, dec_c = init_decoder_hidden(enc_h, enc_c, num_layers_dec)\n",
    "\n",
    "            # First input to decoder is CLS token\n",
    "            input_tok = batch_tgt[:, 0].unsqueeze(1)\n",
    "            outputs = torch.zeros(batch_tgt.size(0), batch_tgt.size(1), vocab_size).to(device)\n",
    "\n",
    "            # Decoder forward pass without teacher forcing\n",
    "            for t in range(1, batch_tgt.size(1)):\n",
    "                dec_out, (dec_h, dec_c) = decoder(input_tok, (dec_h, dec_c))\n",
    "                outputs[:, t, :] = dec_out.squeeze(1)\n",
    "                input_tok = dec_out.argmax(2)  # Use model's prediction as next input\n",
    "\n",
    "            # Calculate loss\n",
    "            outputs_flat = outputs[:, 1:].reshape(-1, vocab_size)\n",
    "            target_flat = batch_tgt[:, 1:].reshape(-1)\n",
    "            loss = criterion(outputs_flat, target_flat)\n",
    "\n",
    "            total_loss += loss.item()\n",
    "\n",
    "    return total_loss / len(dataloader)\n",
    "\n",
    "# Function to train and evaluate a model with given hyperparameters\n",
    "def run_experiment(config, train_loader, val_loader, test_loader, vocab_size, device):\n",
    "    print(f\"\\n{'='*50}\")\n",
    "    print(f\"Running experiment: {config['name']}\")\n",
    "    print(f\"Hyperparameters: {config}\")\n",
    "    print(f\"{'='*50}\")\n",
    "    \n",
    "    # Initialize model with current config\n",
    "    encoder = Encoder(vocab_size, config[\"embed_size\"], config[\"hidden_size\"], \n",
    "                      num_layers=config[\"num_layers_enc\"], dropout=config[\"dropout\"])\n",
    "    decoder = Decoder(vocab_size, config[\"embed_size\"], config[\"hidden_size\"], \n",
    "                      num_layers=config[\"num_layers_dec\"], dropout=config[\"dropout\"])\n",
    "    \n",
    "    # Move to device\n",
    "    encoder.to(device)\n",
    "    decoder.to(device)\n",
    "    \n",
    "    # Initialize optimizer with current learning rate\n",
    "    optimizer = torch.optim.Adam(list(encoder.parameters()) + list(decoder.parameters()), lr=config[\"lr\"])\n",
    "    criterion = nn.CrossEntropyLoss(ignore_index=PAD_ID)\n",
    "    scheduler = torch.optim.lr_scheduler.ReduceLROnPlateau(optimizer, mode='min', factor=0.5, patience=2)\n",
    "    \n",
    "    # Create data loaders with current batch size\n",
    "    train_loader_exp = DataLoader(train_dataset, batch_size=config[\"batch_size\"], shuffle=True)\n",
    "    val_loader_exp = DataLoader(val_dataset, batch_size=config[\"batch_size\"])\n",
    "    test_loader_exp = DataLoader(test_dataset, batch_size=config[\"batch_size\"])\n",
    "    \n",
    "    # Training parameters\n",
    "    num_epochs = 50\n",
    "    teacher_forcing_ratio = 0.5\n",
    "    clip = 1.0\n",
    "    \n",
    "    # Early stopping parameters\n",
    "    best_val_loss = float('inf')\n",
    "    patience = 5\n",
    "    counter = 0\n",
    "    \n",
    "    # For tracking metrics\n",
    "    train_losses = []\n",
    "    val_losses = []\n",
    "    \n",
    "    # Training loop\n",
    "    for epoch in range(num_epochs):\n",
    "        encoder.train()\n",
    "        decoder.train()\n",
    "        total_loss = 0\n",
    "        epoch_start_time = time.time()\n",
    "        \n",
    "        progress_bar = tqdm(train_loader_exp, desc=f'Epoch {epoch+1}/{num_epochs}')\n",
    "        \n",
    "        for batch_src, batch_tgt in progress_bar:\n",
    "            batch_src, batch_tgt = batch_src.to(device), batch_tgt.to(device)\n",
    "            batch_src_len = (batch_src != PAD_ID).sum(dim=1)\n",
    "            \n",
    "            optimizer.zero_grad()\n",
    "            \n",
    "            # Encoder forward pass\n",
    "            enc_out, (enc_h, enc_c) = encoder(batch_src, batch_src_len)\n",
    "            \n",
    "            # Decoder initialization\n",
    "            dec_h, dec_c = init_decoder_hidden(enc_h, enc_c, config[\"num_layers_dec\"])\n",
    "            \n",
    "            # First input to decoder is CLS token\n",
    "            input_tok = batch_tgt[:, 0].unsqueeze(1)\n",
    "            outputs = torch.zeros(batch_tgt.size(0), batch_tgt.size(1), vocab_size).to(device)\n",
    "            \n",
    "            # Decoder forward pass with teacher forcing\n",
    "            for t in range(1, batch_tgt.size(1)):\n",
    "                dec_out, (dec_h, dec_c) = decoder(input_tok, (dec_h, dec_c))\n",
    "                outputs[:, t, :] = dec_out.squeeze(1)\n",
    "                \n",
    "                # Teacher forcing\n",
    "                teacher_force = torch.rand(1).item() < teacher_forcing_ratio\n",
    "                top1 = dec_out.argmax(2)\n",
    "                input_tok = batch_tgt[:, t].unsqueeze(1) if teacher_force else top1\n",
    "            \n",
    "            # Loss calculation\n",
    "            outputs_flat = outputs[:, 1:].reshape(-1, vocab_size)\n",
    "            target_flat = batch_tgt[:, 1:].reshape(-1)\n",
    "            loss = criterion(outputs_flat, target_flat)\n",
    "            \n",
    "            # Backpropagation\n",
    "            loss.backward()\n",
    "            nn.utils.clip_grad_norm_(\n",
    "                list(encoder.parameters()) + list(decoder.parameters()),\n",
    "                clip\n",
    "            )\n",
    "            optimizer.step()\n",
    "            \n",
    "            total_loss += loss.item()\n",
    "            progress_bar.set_postfix({'loss': f'{loss.item():.4f}'})\n",
    "        \n",
    "        # Calculate average loss for the epoch\n",
    "        avg_loss = total_loss / len(train_loader_exp)\n",
    "        train_losses.append(avg_loss)\n",
    "        \n",
    "        # Validation\n",
    "        val_loss = evaluate(encoder, decoder, val_loader_exp, criterion, config[\"num_layers_dec\"])\n",
    "        val_losses.append(val_loss)\n",
    "        \n",
    "        # Learning rate scheduling\n",
    "        scheduler.step(val_loss)\n",
    "        \n",
    "        # Early stopping logic\n",
    "        if val_loss < best_val_loss:\n",
    "            best_val_loss = val_loss\n",
    "            counter = 0\n",
    "            # Save best model for this experiment\n",
    "            torch.save({\n",
    "                'encoder': encoder.state_dict(),\n",
    "                'decoder': decoder.state_dict(),\n",
    "                'optimizer': optimizer.state_dict(),\n",
    "                'config': config,\n",
    "                'train_losses': train_losses,\n",
    "                'val_losses': val_losses\n",
    "            }, f\"{config['name']}_best_model.pt\")\n",
    "        else:\n",
    "            counter += 1\n",
    "            if counter >= patience:\n",
    "                print(f\"Early stopping at epoch {epoch+1}\")\n",
    "                break\n",
    "        \n",
    "        epoch_time = time.time() - epoch_start_time\n",
    "        print(f\"Epoch {epoch+1}/{num_epochs} | Train Loss: {avg_loss:.4f} | Val Loss: {val_loss:.4f} | Time: {epoch_time:.2f}s\")\n",
    "    \n",
    "    # Evaluate on test set\n",
    "    test_loss = evaluate(encoder, decoder, test_loader_exp, criterion, config[\"num_layers_dec\"])\n",
    "    print(f\"Test Loss: {test_loss:.4f}\")\n",
    "    \n",
    "    # Load best model for final evaluation\n",
    "    checkpoint = torch.load(f\"{config['name']}_best_model.pt\")\n",
    "    encoder.load_state_dict(checkpoint['encoder'])\n",
    "    decoder.load_state_dict(checkpoint['decoder'])\n",
    "    \n",
    "    # Create transliterator for this model\n",
    "    transliterator = Transliterator(encoder, decoder, tokenizer, device, config[\"num_layers_dec\"])\n",
    "    \n",
    "    # Run comprehensive evaluation\n",
    "    print(\"Running comprehensive evaluation...\")\n",
    "    results = evaluate_comprehensive(transliterator, test_pairs, num_samples=200)\n",
    "    \n",
    "    # Print summary metrics\n",
    "    print(\"\\n\" + \"=\"*50)\n",
    "    print(f\"EVALUATION SUMMARY FOR {config['name']}\")\n",
    "    print(\"=\"*50)\n",
    "    print(f\"BLEU Score: {results['avg_bleu']:.2f}\")\n",
    "    print(f\"Character Error Rate (CER): {results['avg_cer']:.2%}\")\n",
    "    print(f\"Word Error Rate (WER): {results['avg_wer']:.2%}\")\n",
    "    print(f\"Exact Match Rate: {results['exact_match_rate']:.2%}\")\n",
    "    print(f\"Perplexity: {results['perplexity']:.2f}\")\n",
    "    print(\"=\"*50)\n",
    "    \n",
    "    # Return results\n",
    "    return {\n",
    "        'name': config['name'],\n",
    "        'config': config,\n",
    "        'train_losses': train_losses,\n",
    "        'val_losses': val_losses,\n",
    "        'test_loss': test_loss,\n",
    "        'best_val_loss': best_val_loss,\n",
    "        'results': results\n",
    "    }"
   ]
  },
  {
   "cell_type": "markdown",
   "metadata": {},
   "source": [
    "# 8. Transliterator and Evaluation Functions"
   ]
  },
  {
   "cell_type": "code",
   "execution_count": 11,
   "metadata": {
    "execution": {
     "iopub.execute_input": "2025-09-21T17:38:52.194812Z",
     "iopub.status.busy": "2025-09-21T17:38:52.194497Z",
     "iopub.status.idle": "2025-09-21T17:38:52.215458Z",
     "shell.execute_reply": "2025-09-21T17:38:52.214824Z",
     "shell.execute_reply.started": "2025-09-21T17:38:52.194791Z"
    },
    "trusted": true
   },
   "outputs": [],
   "source": [
    "# Transliterator class\n",
    "class Transliterator:\n",
    "    def __init__(self, encoder, decoder, tokenizer, device, num_layers_dec):\n",
    "        self.encoder = encoder\n",
    "        self.decoder = decoder\n",
    "        self.tokenizer = tokenizer\n",
    "        self.device = device\n",
    "        self.num_layers_dec = num_layers_dec\n",
    "\n",
    "    def normalize_urdu(self, text):\n",
    "        \"\"\"Normalize Urdu text\"\"\"\n",
    "        text = re.sub(r\"[ۂٰٖؔؕ]\", \"\", text)  # remove extra diacritics\n",
    "        text = re.sub(r\"[۰-۹]\", lambda x: str(ord(x.group())-1776), text)  # Arabic numerals\n",
    "        text = re.sub(r\"\\s+\", \" \", text).strip()\n",
    "        return text\n",
    "\n",
    "    def init_decoder_hidden(self, enc_h, enc_c):\n",
    "        \"\"\"Initialize decoder hidden state from encoder hidden state\"\"\"\n",
    "        # Take the final encoder state (from last layer)\n",
    "        final_h = enc_h[-1]  # Shape: [batch_size, hidden_size]\n",
    "        final_c = enc_c[-1]  # Shape: [batch_size, hidden_size]\n",
    "\n",
    "        # Repeat for all decoder layers (identity mapping)\n",
    "        dec_h = final_h.unsqueeze(0).repeat(self.num_layers_dec, 1, 1)\n",
    "        dec_c = final_c.unsqueeze(0).repeat(self.num_layers_dec, 1, 1)\n",
    "\n",
    "        return dec_h, dec_c\n",
    "\n",
    "    def transliterate(self, urdu_text, max_len=50):\n",
    "        \"\"\"Transliterate Urdu text to Roman script\"\"\"\n",
    "        self.encoder.eval()\n",
    "        self.decoder.eval()\n",
    "\n",
    "        # Normalize and tokenize\n",
    "        urdu_norm = self.normalize_urdu(urdu_text)\n",
    "        tokens = [CLS_ID] + self.tokenizer.encode(urdu_norm) + [SEP_ID]\n",
    "        src_tensor = torch.LongTensor(tokens).unsqueeze(0).to(self.device)\n",
    "        src_len = torch.LongTensor([len(tokens)]).to(self.device)\n",
    "\n",
    "        with torch.no_grad():\n",
    "            # Encoder forward pass\n",
    "            enc_out, (enc_h, enc_c) = self.encoder(src_tensor, src_len)\n",
    "\n",
    "            # Initialize decoder hidden state\n",
    "            dec_h, dec_c = self.init_decoder_hidden(enc_h, enc_c)\n",
    "\n",
    "            # Start with CLS token\n",
    "            input_tok = torch.LongTensor([[CLS_ID]]).to(self.device)\n",
    "\n",
    "            result = []\n",
    "\n",
    "            # Generate transliteration\n",
    "            for t in range(max_len):\n",
    "                dec_out, (dec_h, dec_c) = self.decoder(input_tok, (dec_h, dec_c))\n",
    "                pred_token = dec_out.argmax(2).item()\n",
    "\n",
    "                if pred_token == SEP_ID:\n",
    "                    break\n",
    "\n",
    "                result.append(pred_token)\n",
    "                input_tok = torch.LongTensor([[pred_token]]).to(self.device)\n",
    "\n",
    "        # Convert token IDs to text\n",
    "        roman_text = self.tokenizer.decode(result)\n",
    "        return roman_text\n",
    "\n",
    "# Evaluation functions\n",
    "def calculate_bleu(reference, hypothesis):\n",
    "    \"\"\"Calculate BLEU score\"\"\"\n",
    "    try:\n",
    "        # Simple BLEU calculation (using 1-gram, 2-gram, 3-gram, 4-gram)\n",
    "        reference_tokens = reference.split()\n",
    "        hypothesis_tokens = hypothesis.split()\n",
    "        \n",
    "        if len(hypothesis_tokens) == 0:\n",
    "            return 0.0\n",
    "        \n",
    "        # Calculate precision for each n-gram\n",
    "        precisions = []\n",
    "        for n in range(1, 5):\n",
    "            reference_ngrams = list(zip(*[reference_tokens[i:] for i in range(n)]))\n",
    "            hypothesis_ngrams = list(zip(*[hypothesis_tokens[i:] for i in range(n)]))\n",
    "            \n",
    "            if len(hypothesis_ngrams) == 0:\n",
    "                precisions.append(0)\n",
    "                continue\n",
    "            \n",
    "            # Count matching n-grams\n",
    "            matches = sum(1 for ngram in hypothesis_ngrams if ngram in reference_ngrams)\n",
    "            precision = matches / len(hypothesis_ngrams)\n",
    "            precisions.append(precision)\n",
    "        \n",
    "        # Calculate brevity penalty\n",
    "        if len(hypothesis_tokens) > len(reference_tokens):\n",
    "            bp = 1.0\n",
    "        else:\n",
    "            bp = math.exp(1 - len(reference_tokens) / len(hypothesis_tokens)) if len(hypothesis_tokens) > 0 else 0.0\n",
    "        \n",
    "        # Calculate geometric mean of precisions\n",
    "        if all(p > 0 for p in precisions):\n",
    "            score = bp * math.exp(sum(math.log(p) for p in precisions) / len(precisions))\n",
    "        else:\n",
    "            score = 0.0\n",
    "        \n",
    "        return score * 100  # Return as percentage\n",
    "    except:\n",
    "        return 0.0\n",
    "\n",
    "def calculate_perplexity(loss):\n",
    "    \"\"\"Calculate perplexity from loss\"\"\"\n",
    "    try:\n",
    "        return math.exp(loss)\n",
    "    except:\n",
    "        return float('inf')\n",
    "\n",
    "def calculate_cer(reference, hypothesis):\n",
    "    \"\"\"Calculate Character Error Rate using edit distance\"\"\"\n",
    "    try:\n",
    "        ref_chars = list(reference.replace(' ', ''))\n",
    "        hyp_chars = list(hypothesis.replace(' ', ''))\n",
    "\n",
    "        # Calculate edit distance\n",
    "        distance = editdistance(ref_chars, hyp_chars)\n",
    "\n",
    "        # CER = (Substitutions + Deletions + Insertions) / Reference length\n",
    "        cer = distance / len(ref_chars) if len(ref_chars) > 0 else 1.0\n",
    "        return cer\n",
    "    except:\n",
    "        return 1.0\n",
    "\n",
    "def calculate_wer(reference, hypothesis):\n",
    "    \"\"\"Calculate Word Error Rate\"\"\"\n",
    "    try:\n",
    "        ref_words = reference.split()\n",
    "        hyp_words = hypothesis.split()\n",
    "\n",
    "        # Calculate edit distance\n",
    "        distance = editdistance(ref_words, hyp_words)\n",
    "\n",
    "        # WER = (Substitutions + Deletions + Insertions) / Reference length\n",
    "        wer = distance / len(ref_words) if len(ref_words) > 0 else 1.0\n",
    "        return wer\n",
    "    except:\n",
    "        return 1.0\n",
    "\n",
    "def editdistance(s1, s2):\n",
    "    \"\"\"Calculate edit distance between two sequences\"\"\"\n",
    "    if len(s1) > len(s2):\n",
    "        s1, s2 = s2, s1\n",
    "    \n",
    "    distances = range(len(s1) + 1)\n",
    "    for i2, c2 in enumerate(s2):\n",
    "        distances_ = [i2+1]\n",
    "        for i1, c1 in enumerate(s1):\n",
    "            if c1 == c2:\n",
    "                distances_.append(distances[i1])\n",
    "            else:\n",
    "                distances_.append(1 + min((distances[i1], distances[i1 + 1], distances_[-1])))\n",
    "        distances = distances_\n",
    "    \n",
    "    return distances[-1]\n",
    "\n",
    "def evaluate_comprehensive(transliterator, test_pairs, num_samples=None):\n",
    "    \"\"\"Evaluate model with multiple metrics\"\"\"\n",
    "    if num_samples is None:\n",
    "        num_samples = len(test_pairs)\n",
    "\n",
    "    # Sample test pairs\n",
    "    sample_indices = np.random.choice(len(test_pairs), min(num_samples, len(test_pairs)), replace=False)\n",
    "\n",
    "    # Initialize metrics\n",
    "    bleu_scores = []\n",
    "    cer_scores = []\n",
    "    wer_scores = []\n",
    "    exact_matches = 0\n",
    "\n",
    "    # Store examples for qualitative analysis\n",
    "    examples = []\n",
    "\n",
    "    for idx in sample_indices:\n",
    "        pair = test_pairs[idx]\n",
    "        urdu_text = pair[\"ur_norm\"]\n",
    "        reference = pair[\"en_clean\"]\n",
    "\n",
    "        # Get model prediction\n",
    "        prediction = transliterator.transliterate(urdu_text)\n",
    "\n",
    "        # Calculate metrics\n",
    "        bleu = calculate_bleu(reference, prediction)\n",
    "        cer = calculate_cer(reference, prediction)\n",
    "        wer = calculate_wer(reference, prediction)\n",
    "\n",
    "        bleu_scores.append(bleu)\n",
    "        cer_scores.append(cer)\n",
    "        wer_scores.append(wer)\n",
    "\n",
    "        if reference.strip() == prediction.strip():\n",
    "            exact_matches += 1\n",
    "\n",
    "        # Store examples\n",
    "        examples.append({\n",
    "            \"urdu\": urdu_text,\n",
    "            \"reference\": reference,\n",
    "            \"prediction\": prediction,\n",
    "            \"bleu\": bleu,\n",
    "            \"cer\": cer,\n",
    "            \"wer\": wer\n",
    "        })\n",
    "\n",
    "    # Calculate average metrics\n",
    "    avg_bleu = np.mean(bleu_scores)\n",
    "    avg_cer = np.mean(cer_scores)\n",
    "    avg_wer = np.mean(wer_scores)\n",
    "    exact_match_rate = exact_matches / len(sample_indices)\n",
    "\n",
    "    # Calculate perplexity from test loss\n",
    "    test_loss = evaluate(transliterator.encoder, transliterator.decoder, test_loader, \n",
    "                        nn.CrossEntropyLoss(ignore_index=PAD_ID), transliterator.num_layers_dec)\n",
    "    perplexity = calculate_perplexity(test_loss)\n",
    "\n",
    "    return {\n",
    "        \"avg_bleu\": avg_bleu,\n",
    "        \"avg_cer\": avg_cer,\n",
    "        \"avg_wer\": avg_wer,\n",
    "        \"exact_match_rate\": exact_match_rate,\n",
    "        \"perplexity\": perplexity,\n",
    "        \"examples\": examples\n",
    "    }"
   ]
  },
  {
   "cell_type": "markdown",
   "metadata": {},
   "source": [
    "# 9. Run Experiments"
   ]
  },
  {
   "cell_type": "code",
   "execution_count": 12,
   "metadata": {
    "execution": {
     "iopub.execute_input": "2025-09-21T18:41:36.107575Z",
     "iopub.status.busy": "2025-09-21T18:41:36.106755Z",
     "iopub.status.idle": "2025-09-21T20:15:31.936723Z",
     "shell.execute_reply": "2025-09-21T20:15:31.935891Z",
     "shell.execute_reply.started": "2025-09-21T18:41:36.107543Z"
    },
    "trusted": true
   },
   "outputs": [
    {
     "name": "stdout",
     "output_type": "stream",
     "text": [
      "Total pairs: 22158\n",
      "Train pairs: 11079\n",
      "Validation pairs: 5539\n",
      "Test pairs: 5540\n",
      "\n",
      "==================================================\n",
      "Running experiment: exp1\n",
      "Hyperparameters: {'name': 'exp1', 'embed_size': 128, 'hidden_size': 256, 'num_layers_enc': 2, 'num_layers_dec': 4, 'dropout': 0.1, 'lr': 0.001, 'batch_size': 32}\n",
      "==================================================\n"
     ]
    },
    {
     "name": "stderr",
     "output_type": "stream",
     "text": [
      "Epoch 1/50: 100%|██████████| 347/347 [00:59<00:00,  5.84it/s, loss=2.7227]\n"
     ]
    },
    {
     "name": "stdout",
     "output_type": "stream",
     "text": [
      "Epoch 1/50 | Train Loss: 2.9972 | Val Loss: 3.0607 | Time: 66.55s\n"
     ]
    },
    {
     "name": "stderr",
     "output_type": "stream",
     "text": [
      "Epoch 2/50: 100%|██████████| 347/347 [00:59<00:00,  5.80it/s, loss=2.7902]\n"
     ]
    },
    {
     "name": "stdout",
     "output_type": "stream",
     "text": [
      "Epoch 2/50 | Train Loss: 2.6847 | Val Loss: 3.0688 | Time: 66.72s\n"
     ]
    },
    {
     "name": "stderr",
     "output_type": "stream",
     "text": [
      "Epoch 3/50: 100%|██████████| 347/347 [00:59<00:00,  5.80it/s, loss=2.5030]\n"
     ]
    },
    {
     "name": "stdout",
     "output_type": "stream",
     "text": [
      "Epoch 3/50 | Train Loss: 2.5001 | Val Loss: 3.0305 | Time: 66.72s\n"
     ]
    },
    {
     "name": "stderr",
     "output_type": "stream",
     "text": [
      "Epoch 4/50: 100%|██████████| 347/347 [01:00<00:00,  5.75it/s, loss=2.3826]\n"
     ]
    },
    {
     "name": "stdout",
     "output_type": "stream",
     "text": [
      "Epoch 4/50 | Train Loss: 2.3938 | Val Loss: 2.9747 | Time: 67.41s\n"
     ]
    },
    {
     "name": "stderr",
     "output_type": "stream",
     "text": [
      "Epoch 5/50: 100%|██████████| 347/347 [01:00<00:00,  5.77it/s, loss=2.0334]\n"
     ]
    },
    {
     "name": "stdout",
     "output_type": "stream",
     "text": [
      "Epoch 5/50 | Train Loss: 2.2890 | Val Loss: 2.9645 | Time: 67.02s\n"
     ]
    },
    {
     "name": "stderr",
     "output_type": "stream",
     "text": [
      "Epoch 6/50: 100%|██████████| 347/347 [00:59<00:00,  5.79it/s, loss=2.1650]\n"
     ]
    },
    {
     "name": "stdout",
     "output_type": "stream",
     "text": [
      "Epoch 6/50 | Train Loss: 2.2066 | Val Loss: 2.9092 | Time: 66.82s\n"
     ]
    },
    {
     "name": "stderr",
     "output_type": "stream",
     "text": [
      "Epoch 7/50: 100%|██████████| 347/347 [00:59<00:00,  5.84it/s, loss=1.9624]\n"
     ]
    },
    {
     "name": "stdout",
     "output_type": "stream",
     "text": [
      "Epoch 7/50 | Train Loss: 2.1353 | Val Loss: 2.9632 | Time: 66.48s\n"
     ]
    },
    {
     "name": "stderr",
     "output_type": "stream",
     "text": [
      "Epoch 8/50: 100%|██████████| 347/347 [01:00<00:00,  5.75it/s, loss=2.1202]\n"
     ]
    },
    {
     "name": "stdout",
     "output_type": "stream",
     "text": [
      "Epoch 8/50 | Train Loss: 2.0745 | Val Loss: 2.8425 | Time: 67.26s\n"
     ]
    },
    {
     "name": "stderr",
     "output_type": "stream",
     "text": [
      "Epoch 9/50: 100%|██████████| 347/347 [01:00<00:00,  5.73it/s, loss=1.9724]\n"
     ]
    },
    {
     "name": "stdout",
     "output_type": "stream",
     "text": [
      "Epoch 9/50 | Train Loss: 2.0191 | Val Loss: 2.8365 | Time: 67.84s\n"
     ]
    },
    {
     "name": "stderr",
     "output_type": "stream",
     "text": [
      "Epoch 10/50: 100%|██████████| 347/347 [00:59<00:00,  5.79it/s, loss=1.8131]\n"
     ]
    },
    {
     "name": "stdout",
     "output_type": "stream",
     "text": [
      "Epoch 10/50 | Train Loss: 1.9564 | Val Loss: 2.8543 | Time: 66.95s\n"
     ]
    },
    {
     "name": "stderr",
     "output_type": "stream",
     "text": [
      "Epoch 11/50: 100%|██████████| 347/347 [01:00<00:00,  5.76it/s, loss=1.5536]\n"
     ]
    },
    {
     "name": "stdout",
     "output_type": "stream",
     "text": [
      "Epoch 11/50 | Train Loss: 1.8955 | Val Loss: 2.8466 | Time: 67.24s\n"
     ]
    },
    {
     "name": "stderr",
     "output_type": "stream",
     "text": [
      "Epoch 12/50: 100%|██████████| 347/347 [01:00<00:00,  5.76it/s, loss=1.8179]\n"
     ]
    },
    {
     "name": "stdout",
     "output_type": "stream",
     "text": [
      "Epoch 12/50 | Train Loss: 1.8515 | Val Loss: 2.8226 | Time: 67.44s\n"
     ]
    },
    {
     "name": "stderr",
     "output_type": "stream",
     "text": [
      "Epoch 13/50: 100%|██████████| 347/347 [01:00<00:00,  5.77it/s, loss=1.9265]\n"
     ]
    },
    {
     "name": "stdout",
     "output_type": "stream",
     "text": [
      "Epoch 13/50 | Train Loss: 1.7989 | Val Loss: 2.7943 | Time: 67.36s\n"
     ]
    },
    {
     "name": "stderr",
     "output_type": "stream",
     "text": [
      "Epoch 14/50: 100%|██████████| 347/347 [01:00<00:00,  5.76it/s, loss=1.6332]\n"
     ]
    },
    {
     "name": "stdout",
     "output_type": "stream",
     "text": [
      "Epoch 14/50 | Train Loss: 1.7542 | Val Loss: 2.8585 | Time: 67.19s\n"
     ]
    },
    {
     "name": "stderr",
     "output_type": "stream",
     "text": [
      "Epoch 15/50: 100%|██████████| 347/347 [01:00<00:00,  5.76it/s, loss=1.7665]\n"
     ]
    },
    {
     "name": "stdout",
     "output_type": "stream",
     "text": [
      "Epoch 15/50 | Train Loss: 1.7067 | Val Loss: 2.8267 | Time: 67.06s\n"
     ]
    },
    {
     "name": "stderr",
     "output_type": "stream",
     "text": [
      "Epoch 16/50: 100%|██████████| 347/347 [01:00<00:00,  5.75it/s, loss=1.6366]\n"
     ]
    },
    {
     "name": "stdout",
     "output_type": "stream",
     "text": [
      "Epoch 16/50 | Train Loss: 1.6738 | Val Loss: 2.8556 | Time: 67.60s\n"
     ]
    },
    {
     "name": "stderr",
     "output_type": "stream",
     "text": [
      "Epoch 17/50: 100%|██████████| 347/347 [01:00<00:00,  5.75it/s, loss=1.6193]\n"
     ]
    },
    {
     "name": "stdout",
     "output_type": "stream",
     "text": [
      "Epoch 17/50 | Train Loss: 1.5771 | Val Loss: 2.7095 | Time: 67.49s\n"
     ]
    },
    {
     "name": "stderr",
     "output_type": "stream",
     "text": [
      "Epoch 18/50: 100%|██████████| 347/347 [00:59<00:00,  5.79it/s, loss=1.6156]\n"
     ]
    },
    {
     "name": "stdout",
     "output_type": "stream",
     "text": [
      "Epoch 18/50 | Train Loss: 1.5511 | Val Loss: 2.7923 | Time: 66.78s\n"
     ]
    },
    {
     "name": "stderr",
     "output_type": "stream",
     "text": [
      "Epoch 19/50: 100%|██████████| 347/347 [00:59<00:00,  5.79it/s, loss=1.3733]\n"
     ]
    },
    {
     "name": "stdout",
     "output_type": "stream",
     "text": [
      "Epoch 19/50 | Train Loss: 1.5151 | Val Loss: 2.8462 | Time: 66.77s\n"
     ]
    },
    {
     "name": "stderr",
     "output_type": "stream",
     "text": [
      "Epoch 20/50: 100%|██████████| 347/347 [00:54<00:00,  6.42it/s, loss=1.3114]\n"
     ]
    },
    {
     "name": "stdout",
     "output_type": "stream",
     "text": [
      "Epoch 20/50 | Train Loss: 1.4808 | Val Loss: 2.7480 | Time: 61.19s\n"
     ]
    },
    {
     "name": "stderr",
     "output_type": "stream",
     "text": [
      "Epoch 21/50: 100%|██████████| 347/347 [00:54<00:00,  6.37it/s, loss=1.8098]\n"
     ]
    },
    {
     "name": "stdout",
     "output_type": "stream",
     "text": [
      "Epoch 21/50 | Train Loss: 1.4354 | Val Loss: 2.7775 | Time: 61.41s\n"
     ]
    },
    {
     "name": "stderr",
     "output_type": "stream",
     "text": [
      "Epoch 22/50: 100%|██████████| 347/347 [00:55<00:00,  6.30it/s, loss=1.6923]\n"
     ]
    },
    {
     "name": "stdout",
     "output_type": "stream",
     "text": [
      "Early stopping at epoch 22\n",
      "Test Loss: 2.7026\n",
      "Running comprehensive evaluation...\n",
      "\n",
      "==================================================\n",
      "EVALUATION SUMMARY FOR exp1\n",
      "==================================================\n",
      "BLEU Score: 0.00\n",
      "Character Error Rate (CER): 60.65%\n",
      "Word Error Rate (WER): 100.00%\n",
      "Exact Match Rate: 7.00%\n",
      "Perplexity: 14.14\n",
      "==================================================\n",
      "\n",
      "==================================================\n",
      "Running experiment: exp2\n",
      "Hyperparameters: {'name': 'exp2', 'embed_size': 256, 'hidden_size': 512, 'num_layers_enc': 2, 'num_layers_dec': 4, 'dropout': 0.3, 'lr': 0.0005, 'batch_size': 64}\n",
      "==================================================\n"
     ]
    },
    {
     "name": "stderr",
     "output_type": "stream",
     "text": [
      "Epoch 1/50: 100%|██████████| 174/174 [00:30<00:00,  5.65it/s, loss=2.9095]\n"
     ]
    },
    {
     "name": "stdout",
     "output_type": "stream",
     "text": [
      "Epoch 1/50 | Train Loss: 3.0433 | Val Loss: 3.0326 | Time: 35.14s\n"
     ]
    },
    {
     "name": "stderr",
     "output_type": "stream",
     "text": [
      "Epoch 2/50: 100%|██████████| 174/174 [00:30<00:00,  5.71it/s, loss=2.6468]\n"
     ]
    },
    {
     "name": "stdout",
     "output_type": "stream",
     "text": [
      "Epoch 2/50 | Train Loss: 2.8344 | Val Loss: 2.9650 | Time: 34.86s\n"
     ]
    },
    {
     "name": "stderr",
     "output_type": "stream",
     "text": [
      "Epoch 3/50: 100%|██████████| 174/174 [00:30<00:00,  5.68it/s, loss=2.5317]\n"
     ]
    },
    {
     "name": "stdout",
     "output_type": "stream",
     "text": [
      "Epoch 3/50 | Train Loss: 2.5680 | Val Loss: 2.9167 | Time: 34.93s\n"
     ]
    },
    {
     "name": "stderr",
     "output_type": "stream",
     "text": [
      "Epoch 4/50: 100%|██████████| 174/174 [00:30<00:00,  5.73it/s, loss=2.3850]\n"
     ]
    },
    {
     "name": "stdout",
     "output_type": "stream",
     "text": [
      "Epoch 4/50 | Train Loss: 2.4169 | Val Loss: 2.8762 | Time: 34.69s\n"
     ]
    },
    {
     "name": "stderr",
     "output_type": "stream",
     "text": [
      "Epoch 5/50: 100%|██████████| 174/174 [00:30<00:00,  5.67it/s, loss=2.1739]\n"
     ]
    },
    {
     "name": "stdout",
     "output_type": "stream",
     "text": [
      "Epoch 5/50 | Train Loss: 2.2967 | Val Loss: 2.8756 | Time: 35.07s\n"
     ]
    },
    {
     "name": "stderr",
     "output_type": "stream",
     "text": [
      "Epoch 6/50: 100%|██████████| 174/174 [00:30<00:00,  5.67it/s, loss=1.9539]\n"
     ]
    },
    {
     "name": "stdout",
     "output_type": "stream",
     "text": [
      "Epoch 6/50 | Train Loss: 2.2064 | Val Loss: 2.7878 | Time: 35.00s\n"
     ]
    },
    {
     "name": "stderr",
     "output_type": "stream",
     "text": [
      "Epoch 7/50: 100%|██████████| 174/174 [00:30<00:00,  5.71it/s, loss=1.8409]\n"
     ]
    },
    {
     "name": "stdout",
     "output_type": "stream",
     "text": [
      "Epoch 7/50 | Train Loss: 2.1132 | Val Loss: 2.8385 | Time: 34.29s\n"
     ]
    },
    {
     "name": "stderr",
     "output_type": "stream",
     "text": [
      "Epoch 8/50: 100%|██████████| 174/174 [00:30<00:00,  5.65it/s, loss=2.0504]\n"
     ]
    },
    {
     "name": "stdout",
     "output_type": "stream",
     "text": [
      "Epoch 8/50 | Train Loss: 2.0293 | Val Loss: 2.7039 | Time: 35.17s\n"
     ]
    },
    {
     "name": "stderr",
     "output_type": "stream",
     "text": [
      "Epoch 9/50: 100%|██████████| 174/174 [00:30<00:00,  5.71it/s, loss=2.1632]\n"
     ]
    },
    {
     "name": "stdout",
     "output_type": "stream",
     "text": [
      "Epoch 9/50 | Train Loss: 1.9106 | Val Loss: 2.7942 | Time: 34.25s\n"
     ]
    },
    {
     "name": "stderr",
     "output_type": "stream",
     "text": [
      "Epoch 10/50: 100%|██████████| 174/174 [00:30<00:00,  5.66it/s, loss=1.8299]\n"
     ]
    },
    {
     "name": "stdout",
     "output_type": "stream",
     "text": [
      "Epoch 10/50 | Train Loss: 1.8172 | Val Loss: 2.6492 | Time: 35.15s\n"
     ]
    },
    {
     "name": "stderr",
     "output_type": "stream",
     "text": [
      "Epoch 11/50: 100%|██████████| 174/174 [00:30<00:00,  5.67it/s, loss=1.4501]\n"
     ]
    },
    {
     "name": "stdout",
     "output_type": "stream",
     "text": [
      "Epoch 11/50 | Train Loss: 1.7014 | Val Loss: 2.7036 | Time: 34.53s\n"
     ]
    },
    {
     "name": "stderr",
     "output_type": "stream",
     "text": [
      "Epoch 12/50: 100%|██████████| 174/174 [00:30<00:00,  5.68it/s, loss=1.6323]\n"
     ]
    },
    {
     "name": "stdout",
     "output_type": "stream",
     "text": [
      "Epoch 12/50 | Train Loss: 1.6221 | Val Loss: 2.6186 | Time: 35.01s\n"
     ]
    },
    {
     "name": "stderr",
     "output_type": "stream",
     "text": [
      "Epoch 13/50: 100%|██████████| 174/174 [00:30<00:00,  5.68it/s, loss=1.4164]\n"
     ]
    },
    {
     "name": "stdout",
     "output_type": "stream",
     "text": [
      "Epoch 13/50 | Train Loss: 1.5219 | Val Loss: 2.6416 | Time: 34.48s\n"
     ]
    },
    {
     "name": "stderr",
     "output_type": "stream",
     "text": [
      "Epoch 14/50: 100%|██████████| 174/174 [00:30<00:00,  5.63it/s, loss=1.6484]\n"
     ]
    },
    {
     "name": "stdout",
     "output_type": "stream",
     "text": [
      "Epoch 14/50 | Train Loss: 1.4231 | Val Loss: 2.6099 | Time: 35.34s\n"
     ]
    },
    {
     "name": "stderr",
     "output_type": "stream",
     "text": [
      "Epoch 15/50: 100%|██████████| 174/174 [00:30<00:00,  5.67it/s, loss=1.3577]\n"
     ]
    },
    {
     "name": "stdout",
     "output_type": "stream",
     "text": [
      "Epoch 15/50 | Train Loss: 1.3341 | Val Loss: 2.6752 | Time: 34.54s\n"
     ]
    },
    {
     "name": "stderr",
     "output_type": "stream",
     "text": [
      "Epoch 16/50: 100%|██████████| 174/174 [00:30<00:00,  5.69it/s, loss=1.2443]\n"
     ]
    },
    {
     "name": "stdout",
     "output_type": "stream",
     "text": [
      "Epoch 16/50 | Train Loss: 1.2651 | Val Loss: 2.5243 | Time: 34.90s\n"
     ]
    },
    {
     "name": "stderr",
     "output_type": "stream",
     "text": [
      "Epoch 17/50: 100%|██████████| 174/174 [00:30<00:00,  5.66it/s, loss=0.9887]\n"
     ]
    },
    {
     "name": "stdout",
     "output_type": "stream",
     "text": [
      "Epoch 17/50 | Train Loss: 1.1968 | Val Loss: 2.6245 | Time: 34.56s\n"
     ]
    },
    {
     "name": "stderr",
     "output_type": "stream",
     "text": [
      "Epoch 18/50: 100%|██████████| 174/174 [00:30<00:00,  5.68it/s, loss=1.4399]\n"
     ]
    },
    {
     "name": "stdout",
     "output_type": "stream",
     "text": [
      "Epoch 18/50 | Train Loss: 1.1199 | Val Loss: 2.6393 | Time: 34.36s\n"
     ]
    },
    {
     "name": "stderr",
     "output_type": "stream",
     "text": [
      "Epoch 19/50: 100%|██████████| 174/174 [00:30<00:00,  5.71it/s, loss=0.8702]\n"
     ]
    },
    {
     "name": "stdout",
     "output_type": "stream",
     "text": [
      "Epoch 19/50 | Train Loss: 1.0594 | Val Loss: 2.5575 | Time: 34.35s\n"
     ]
    },
    {
     "name": "stderr",
     "output_type": "stream",
     "text": [
      "Epoch 20/50: 100%|██████████| 174/174 [00:30<00:00,  5.65it/s, loss=0.6398]\n"
     ]
    },
    {
     "name": "stdout",
     "output_type": "stream",
     "text": [
      "Epoch 20/50 | Train Loss: 0.9481 | Val Loss: 2.5866 | Time: 34.60s\n"
     ]
    },
    {
     "name": "stderr",
     "output_type": "stream",
     "text": [
      "Epoch 21/50: 100%|██████████| 174/174 [00:30<00:00,  5.72it/s, loss=0.9018]\n"
     ]
    },
    {
     "name": "stdout",
     "output_type": "stream",
     "text": [
      "Early stopping at epoch 21\n",
      "Test Loss: 2.5273\n",
      "Running comprehensive evaluation...\n",
      "\n",
      "==================================================\n",
      "EVALUATION SUMMARY FOR exp2\n",
      "==================================================\n",
      "BLEU Score: 0.00\n",
      "Character Error Rate (CER): 51.24%\n",
      "Word Error Rate (WER): 100.00%\n",
      "Exact Match Rate: 6.50%\n",
      "Perplexity: 11.45\n",
      "==================================================\n",
      "\n",
      "==================================================\n",
      "Running experiment: exp3\n",
      "Hyperparameters: {'name': 'exp3', 'embed_size': 256, 'hidden_size': 512, 'num_layers_enc': 4, 'num_layers_dec': 4, 'dropout': 0.5, 'lr': 0.0001, 'batch_size': 128}\n",
      "==================================================\n"
     ]
    },
    {
     "name": "stderr",
     "output_type": "stream",
     "text": [
      "Epoch 1/50: 100%|██████████| 87/87 [00:18<00:00,  4.58it/s, loss=3.0620]\n"
     ]
    },
    {
     "name": "stdout",
     "output_type": "stream",
     "text": [
      "Epoch 1/50 | Train Loss: 3.4156 | Val Loss: 3.0876 | Time: 22.51s\n"
     ]
    },
    {
     "name": "stderr",
     "output_type": "stream",
     "text": [
      "Epoch 2/50: 100%|██████████| 87/87 [00:18<00:00,  4.62it/s, loss=2.9864]\n"
     ]
    },
    {
     "name": "stdout",
     "output_type": "stream",
     "text": [
      "Epoch 2/50 | Train Loss: 3.0135 | Val Loss: 3.0320 | Time: 22.29s\n"
     ]
    },
    {
     "name": "stderr",
     "output_type": "stream",
     "text": [
      "Epoch 3/50: 100%|██████████| 87/87 [00:18<00:00,  4.58it/s, loss=2.9735]\n"
     ]
    },
    {
     "name": "stdout",
     "output_type": "stream",
     "text": [
      "Epoch 3/50 | Train Loss: 2.9771 | Val Loss: 3.0314 | Time: 22.55s\n"
     ]
    },
    {
     "name": "stderr",
     "output_type": "stream",
     "text": [
      "Epoch 4/50: 100%|██████████| 87/87 [00:18<00:00,  4.61it/s, loss=2.9594]\n"
     ]
    },
    {
     "name": "stdout",
     "output_type": "stream",
     "text": [
      "Epoch 4/50 | Train Loss: 2.9658 | Val Loss: 3.0118 | Time: 22.32s\n"
     ]
    },
    {
     "name": "stderr",
     "output_type": "stream",
     "text": [
      "Epoch 5/50: 100%|██████████| 87/87 [00:18<00:00,  4.61it/s, loss=2.9341]\n"
     ]
    },
    {
     "name": "stdout",
     "output_type": "stream",
     "text": [
      "Epoch 5/50 | Train Loss: 2.9550 | Val Loss: 3.0045 | Time: 22.28s\n"
     ]
    },
    {
     "name": "stderr",
     "output_type": "stream",
     "text": [
      "Epoch 6/50: 100%|██████████| 87/87 [00:19<00:00,  4.54it/s, loss=2.9644]\n"
     ]
    },
    {
     "name": "stdout",
     "output_type": "stream",
     "text": [
      "Epoch 6/50 | Train Loss: 2.9494 | Val Loss: 2.9991 | Time: 22.64s\n"
     ]
    },
    {
     "name": "stderr",
     "output_type": "stream",
     "text": [
      "Epoch 7/50: 100%|██████████| 87/87 [00:18<00:00,  4.60it/s, loss=2.9295]\n"
     ]
    },
    {
     "name": "stdout",
     "output_type": "stream",
     "text": [
      "Epoch 7/50 | Train Loss: 2.9426 | Val Loss: 2.9941 | Time: 22.34s\n"
     ]
    },
    {
     "name": "stderr",
     "output_type": "stream",
     "text": [
      "Epoch 8/50: 100%|██████████| 87/87 [00:18<00:00,  4.61it/s, loss=2.9450]\n"
     ]
    },
    {
     "name": "stdout",
     "output_type": "stream",
     "text": [
      "Epoch 8/50 | Train Loss: 2.9355 | Val Loss: 2.9736 | Time: 22.41s\n"
     ]
    },
    {
     "name": "stderr",
     "output_type": "stream",
     "text": [
      "Epoch 9/50: 100%|██████████| 87/87 [00:18<00:00,  4.60it/s, loss=2.9355]\n"
     ]
    },
    {
     "name": "stdout",
     "output_type": "stream",
     "text": [
      "Epoch 9/50 | Train Loss: 2.9295 | Val Loss: 2.9708 | Time: 22.35s\n"
     ]
    },
    {
     "name": "stderr",
     "output_type": "stream",
     "text": [
      "Epoch 10/50: 100%|██████████| 87/87 [00:18<00:00,  4.62it/s, loss=2.9032]\n"
     ]
    },
    {
     "name": "stdout",
     "output_type": "stream",
     "text": [
      "Epoch 10/50 | Train Loss: 2.9153 | Val Loss: 2.9517 | Time: 22.35s\n"
     ]
    },
    {
     "name": "stderr",
     "output_type": "stream",
     "text": [
      "Epoch 11/50: 100%|██████████| 87/87 [00:18<00:00,  4.63it/s, loss=2.8279]\n"
     ]
    },
    {
     "name": "stdout",
     "output_type": "stream",
     "text": [
      "Epoch 11/50 | Train Loss: 2.8906 | Val Loss: 2.9555 | Time: 21.19s\n"
     ]
    },
    {
     "name": "stderr",
     "output_type": "stream",
     "text": [
      "Epoch 12/50: 100%|██████████| 87/87 [00:18<00:00,  4.65it/s, loss=2.7725]\n"
     ]
    },
    {
     "name": "stdout",
     "output_type": "stream",
     "text": [
      "Epoch 12/50 | Train Loss: 2.8116 | Val Loss: 2.9515 | Time: 22.19s\n"
     ]
    },
    {
     "name": "stderr",
     "output_type": "stream",
     "text": [
      "Epoch 13/50: 100%|██████████| 87/87 [00:18<00:00,  4.63it/s, loss=2.7299]\n"
     ]
    },
    {
     "name": "stdout",
     "output_type": "stream",
     "text": [
      "Epoch 13/50 | Train Loss: 2.7340 | Val Loss: 2.9514 | Time: 22.34s\n"
     ]
    },
    {
     "name": "stderr",
     "output_type": "stream",
     "text": [
      "Epoch 14/50: 100%|██████████| 87/87 [00:18<00:00,  4.60it/s, loss=2.6726]\n"
     ]
    },
    {
     "name": "stdout",
     "output_type": "stream",
     "text": [
      "Epoch 14/50 | Train Loss: 2.6846 | Val Loss: 2.9295 | Time: 22.35s\n"
     ]
    },
    {
     "name": "stderr",
     "output_type": "stream",
     "text": [
      "Epoch 15/50: 100%|██████████| 87/87 [00:18<00:00,  4.60it/s, loss=2.6839]\n"
     ]
    },
    {
     "name": "stdout",
     "output_type": "stream",
     "text": [
      "Epoch 15/50 | Train Loss: 2.6454 | Val Loss: 2.9150 | Time: 22.45s\n"
     ]
    },
    {
     "name": "stderr",
     "output_type": "stream",
     "text": [
      "Epoch 16/50: 100%|██████████| 87/87 [00:18<00:00,  4.58it/s, loss=2.6645]\n"
     ]
    },
    {
     "name": "stdout",
     "output_type": "stream",
     "text": [
      "Epoch 16/50 | Train Loss: 2.6259 | Val Loss: 2.8996 | Time: 22.43s\n"
     ]
    },
    {
     "name": "stderr",
     "output_type": "stream",
     "text": [
      "Epoch 17/50: 100%|██████████| 87/87 [00:18<00:00,  4.59it/s, loss=2.5815]\n"
     ]
    },
    {
     "name": "stdout",
     "output_type": "stream",
     "text": [
      "Epoch 17/50 | Train Loss: 2.5885 | Val Loss: 2.9098 | Time: 21.36s\n"
     ]
    },
    {
     "name": "stderr",
     "output_type": "stream",
     "text": [
      "Epoch 18/50: 100%|██████████| 87/87 [00:19<00:00,  4.55it/s, loss=2.5957]\n"
     ]
    },
    {
     "name": "stdout",
     "output_type": "stream",
     "text": [
      "Epoch 18/50 | Train Loss: 2.5655 | Val Loss: 2.8934 | Time: 22.59s\n"
     ]
    },
    {
     "name": "stderr",
     "output_type": "stream",
     "text": [
      "Epoch 19/50: 100%|██████████| 87/87 [00:19<00:00,  4.55it/s, loss=2.4610]\n"
     ]
    },
    {
     "name": "stdout",
     "output_type": "stream",
     "text": [
      "Epoch 19/50 | Train Loss: 2.5379 | Val Loss: 2.8969 | Time: 21.49s\n"
     ]
    },
    {
     "name": "stderr",
     "output_type": "stream",
     "text": [
      "Epoch 20/50: 100%|██████████| 87/87 [00:18<00:00,  4.63it/s, loss=2.5858]\n"
     ]
    },
    {
     "name": "stdout",
     "output_type": "stream",
     "text": [
      "Epoch 20/50 | Train Loss: 2.5030 | Val Loss: 2.8946 | Time: 21.16s\n"
     ]
    },
    {
     "name": "stderr",
     "output_type": "stream",
     "text": [
      "Epoch 21/50: 100%|██████████| 87/87 [00:19<00:00,  4.58it/s, loss=2.3343]\n"
     ]
    },
    {
     "name": "stdout",
     "output_type": "stream",
     "text": [
      "Epoch 21/50 | Train Loss: 2.4802 | Val Loss: 2.9155 | Time: 21.44s\n"
     ]
    },
    {
     "name": "stderr",
     "output_type": "stream",
     "text": [
      "Epoch 22/50: 100%|██████████| 87/87 [00:18<00:00,  4.62it/s, loss=2.5510]\n"
     ]
    },
    {
     "name": "stdout",
     "output_type": "stream",
     "text": [
      "Epoch 22/50 | Train Loss: 2.4550 | Val Loss: 2.8754 | Time: 22.30s\n"
     ]
    },
    {
     "name": "stderr",
     "output_type": "stream",
     "text": [
      "Epoch 23/50: 100%|██████████| 87/87 [00:18<00:00,  4.62it/s, loss=2.4913]\n"
     ]
    },
    {
     "name": "stdout",
     "output_type": "stream",
     "text": [
      "Epoch 23/50 | Train Loss: 2.4349 | Val Loss: 2.9007 | Time: 21.23s\n"
     ]
    },
    {
     "name": "stderr",
     "output_type": "stream",
     "text": [
      "Epoch 24/50: 100%|██████████| 87/87 [00:18<00:00,  4.61it/s, loss=2.4354]\n"
     ]
    },
    {
     "name": "stdout",
     "output_type": "stream",
     "text": [
      "Epoch 24/50 | Train Loss: 2.4290 | Val Loss: 2.9064 | Time: 21.28s\n"
     ]
    },
    {
     "name": "stderr",
     "output_type": "stream",
     "text": [
      "Epoch 25/50: 100%|██████████| 87/87 [00:18<00:00,  4.61it/s, loss=2.4158]\n"
     ]
    },
    {
     "name": "stdout",
     "output_type": "stream",
     "text": [
      "Epoch 25/50 | Train Loss: 2.4171 | Val Loss: 2.8860 | Time: 21.24s\n"
     ]
    },
    {
     "name": "stderr",
     "output_type": "stream",
     "text": [
      "Epoch 26/50: 100%|██████████| 87/87 [00:18<00:00,  4.59it/s, loss=2.4337]\n"
     ]
    },
    {
     "name": "stdout",
     "output_type": "stream",
     "text": [
      "Epoch 26/50 | Train Loss: 2.4039 | Val Loss: 2.8805 | Time: 21.32s\n"
     ]
    },
    {
     "name": "stderr",
     "output_type": "stream",
     "text": [
      "Epoch 27/50: 100%|██████████| 87/87 [00:18<00:00,  4.59it/s, loss=2.3763]\n"
     ]
    },
    {
     "name": "stdout",
     "output_type": "stream",
     "text": [
      "Epoch 27/50 | Train Loss: 2.3911 | Val Loss: 2.8707 | Time: 22.46s\n"
     ]
    },
    {
     "name": "stderr",
     "output_type": "stream",
     "text": [
      "Epoch 28/50: 100%|██████████| 87/87 [00:19<00:00,  4.54it/s, loss=2.3789]\n"
     ]
    },
    {
     "name": "stdout",
     "output_type": "stream",
     "text": [
      "Epoch 28/50 | Train Loss: 2.3757 | Val Loss: 2.9008 | Time: 21.54s\n"
     ]
    },
    {
     "name": "stderr",
     "output_type": "stream",
     "text": [
      "Epoch 29/50: 100%|██████████| 87/87 [00:18<00:00,  4.61it/s, loss=2.4478]\n"
     ]
    },
    {
     "name": "stdout",
     "output_type": "stream",
     "text": [
      "Epoch 29/50 | Train Loss: 2.3765 | Val Loss: 2.8892 | Time: 21.31s\n"
     ]
    },
    {
     "name": "stderr",
     "output_type": "stream",
     "text": [
      "Epoch 30/50: 100%|██████████| 87/87 [00:19<00:00,  4.55it/s, loss=2.3331]\n"
     ]
    },
    {
     "name": "stdout",
     "output_type": "stream",
     "text": [
      "Epoch 30/50 | Train Loss: 2.3762 | Val Loss: 2.8791 | Time: 21.58s\n"
     ]
    },
    {
     "name": "stderr",
     "output_type": "stream",
     "text": [
      "Epoch 31/50: 100%|██████████| 87/87 [00:18<00:00,  4.60it/s, loss=2.3138]\n"
     ]
    },
    {
     "name": "stdout",
     "output_type": "stream",
     "text": [
      "Epoch 31/50 | Train Loss: 2.3678 | Val Loss: 2.8781 | Time: 21.33s\n"
     ]
    },
    {
     "name": "stderr",
     "output_type": "stream",
     "text": [
      "Epoch 32/50: 100%|██████████| 87/87 [00:18<00:00,  4.63it/s, loss=2.3397]\n"
     ]
    },
    {
     "name": "stdout",
     "output_type": "stream",
     "text": [
      "Early stopping at epoch 32\n",
      "Test Loss: 2.8518\n",
      "Running comprehensive evaluation...\n",
      "\n",
      "==================================================\n",
      "EVALUATION SUMMARY FOR exp3\n",
      "==================================================\n",
      "BLEU Score: 0.00\n",
      "Character Error Rate (CER): 71.80%\n",
      "Word Error Rate (WER): 100.00%\n",
      "Exact Match Rate: 5.50%\n",
      "Perplexity: 17.19\n",
      "==================================================\n",
      "\n",
      "==================================================\n",
      "EXPERIMENT COMPARISON\n",
      "==================================================\n",
      "Experiment BLEU     CER      WER      Match Rate   Perplexity  \n",
      "----------------------------------------------------------------------\n",
      "exp1       0.00     60.65%   100.00%  7.00%        14.14       \n",
      "exp2       0.00     51.24%   100.00%  6.50%        11.45       \n",
      "exp3       0.00     71.80%   100.00%  5.50%        17.19       \n",
      "\n",
      "Best Model: exp1 with BLEU score of 0.00\n"
     ]
    },
    {
     "data": {
      "image/png": "[encoded data removed]",
      "text/plain": [
       "<Figure size 1500x1000 with 2 Axes>"
      ]
     },
     "metadata": {},
     "output_type": "display_data"
    }
   ],
   "source": [
    "# Extract test pairs from the original dataset\n",
    "N = len(pairs_with_file)\n",
    "train_end = N//2\n",
    "val_end = train_end + N//4\n",
    "test_pairs = pairs_with_file[val_end:]\n",
    "\n",
    "print(f\"Total pairs: {N}\")\n",
    "print(f\"Train pairs: {train_end}\")\n",
    "print(f\"Validation pairs: {val_end - train_end}\")\n",
    "print(f\"Test pairs: {len(test_pairs)}\")\n",
    "\n",
    "# Run all experiments\n",
    "all_results = []\n",
    "for config in hyperparameter_configs:\n",
    "    result = run_experiment(config, train_loader, val_loader, test_loader, vocab_size, device)\n",
    "    all_results.append(result)\n",
    "\n",
    "# Compare results\n",
    "print(\"\\n\" + \"=\"*50)\n",
    "print(\"EXPERIMENT COMPARISON\")\n",
    "print(\"=\"*50)\n",
    "print(f\"{'Experiment':<10} {'BLEU':<8} {'CER':<8} {'WER':<8} {'Match Rate':<12} {'Perplexity':<12}\")\n",
    "print(\"-\" * 70)\n",
    "\n",
    "for result in all_results:\n",
    "    print(f\"{result['name']:<10} \"\n",
    "          f\"{result['results']['avg_bleu']:<8.2f} \"\n",
    "          f\"{result['results']['avg_cer']:<8.2%} \"\n",
    "          f\"{result['results']['avg_wer']:<8.2%} \"\n",
    "          f\"{result['results']['exact_match_rate']:<12.2%} \"\n",
    "          f\"{result['results']['perplexity']:<12.2f}\")\n",
    "\n",
    "# Find best model based on BLEU score\n",
    "best_result = max(all_results, key=lambda x: x['results']['avg_bleu'])\n",
    "print(f\"\\nBest Model: {best_result['name']} with BLEU score of {best_result['results']['avg_bleu']:.2f}\")\n",
    "\n",
    "# Plot learning curves for all experiments\n",
    "plt.figure(figsize=(15, 10))\n",
    "\n",
    "# Plot training losses\n",
    "plt.subplot(2, 1, 1)\n",
    "for result in all_results:\n",
    "    plt.plot(result['train_losses'], label=f\"{result['name']} Train\")\n",
    "plt.xlabel('Epochs')\n",
    "plt.ylabel('Training Loss')\n",
    "plt.title('Training Loss Comparison')\n",
    "plt.legend()\n",
    "plt.grid(True)\n",
    "\n",
    "# Plot validation losses\n",
    "plt.subplot(2, 1, 2)\n",
    "for result in all_results:\n",
    "    plt.plot(result['val_losses'], label=f\"{result['name']} Val\")\n",
    "plt.xlabel('Epochs')\n",
    "plt.ylabel('Validation Loss')\n",
    "plt.title('Validation Loss Comparison')\n",
    "plt.legend()\n",
    "plt.grid(True)\n",
    "\n",
    "plt.tight_layout()\n",
    "plt.show()"
   ]
  },
  {
   "cell_type": "markdown",
   "metadata": {},
   "source": [
    "# 10. Final Evaluation of Best Model"
   ]
  },
  {
   "cell_type": "code",
   "execution_count": 13,
   "metadata": {
    "execution": {
     "iopub.execute_input": "2025-09-21T20:15:31.938054Z",
     "iopub.status.busy": "2025-09-21T20:15:31.937847Z",
     "iopub.status.idle": "2025-09-21T20:17:04.060098Z",
     "shell.execute_reply": "2025-09-21T20:17:04.059318Z",
     "shell.execute_reply.started": "2025-09-21T20:15:31.938038Z"
    },
    "trusted": true
   },
   "outputs": [
    {
     "name": "stdout",
     "output_type": "stream",
     "text": [
      "\n",
      "==================================================\n",
      "FINAL EVALUATION OF BEST MODEL\n",
      "==================================================\n",
      "BLEU Score: 0.00\n",
      "Character Error Rate (CER): 60.97%\n",
      "Word Error Rate (WER): 100.00%\n",
      "Exact Match Rate: 7.40%\n",
      "Perplexity: 14.14\n",
      "==================================================\n",
      "\n",
      "QUALITATIVE EXAMPLES FROM BEST MODEL\n",
      "==================================================\n",
      "\n",
      "Top 5 Worst Predictions (Low BLEU):\n",
      "\n",
      "Example #1 (BLEU: 0.00, CER: 34.78%)\n",
      "Urdu:     کیوں کہ یہ باز آشیانی ہے\n",
      "Reference: kyuuñ ki ye baaz āshyānī hai\n",
      "Prediction: kyuuñkanezafāānānīhai\n",
      "\n",
      "Example #2 (BLEU: 0.00, CER: 67.65%)\n",
      "Urdu:     بے گناہی کے لبادے کو اتارو بھی نصیر\n",
      "Reference: be-gunāhī ke libāde ko utāro bhī 'nasīr'\n",
      "Prediction: be-galāgayāhakoaaaatīsanar\n",
      "\n",
      "Example #3 (BLEU: 0.00, CER: 52.17%)\n",
      "Urdu:     ناؤ ڈالی اور دھارا اور ہے\n",
      "Reference: naav daalī aur dhārā aur hai\n",
      "Prediction: naañdardkīdalāāārahāhai\n",
      "\n",
      "Example #4 (BLEU: 0.00, CER: 40.00%)\n",
      "Urdu:     یہ زندگی ہے تو پھر زندگی کو کیا کیجے\n",
      "Reference: ye zindagī hai to phir zindagī ko kyā kiije\n",
      "Prediction: yezararhaitohaiaaaakokyākaiije\n",
      "\n",
      "Example #5 (BLEU: 0.00, CER: 56.76%)\n",
      "Urdu:     کہانی میں تو کرداروں کو جو چاہے بنا دیجے\n",
      "Reference: kahānī meñ to kirdāroñ ko jo chāhe banā diije\n",
      "Prediction: kahāñhīmeñkokokyākahāñkohosaadliye\n",
      "\n",
      "--------------------------------------------------\n",
      "\n",
      "Top 5 Best Predictions (High BLEU):\n",
      "\n",
      "Example #1 (BLEU: 0.00, CER: 34.78%)\n",
      "Urdu:     کیوں کہ یہ باز آشیانی ہے\n",
      "Reference: kyuuñ ki ye baaz āshyānī hai\n",
      "Prediction: kyuuñkanezafāānānīhai\n",
      "\n",
      "Example #2 (BLEU: 0.00, CER: 67.65%)\n",
      "Urdu:     بے گناہی کے لبادے کو اتارو بھی نصیر\n",
      "Reference: be-gunāhī ke libāde ko utāro bhī 'nasīr'\n",
      "Prediction: be-galāgayāhakoaaaatīsanar\n",
      "\n",
      "Example #3 (BLEU: 0.00, CER: 52.17%)\n",
      "Urdu:     ناؤ ڈالی اور دھارا اور ہے\n",
      "Reference: naav daalī aur dhārā aur hai\n",
      "Prediction: naañdardkīdalāāārahāhai\n",
      "\n",
      "Example #4 (BLEU: 0.00, CER: 40.00%)\n",
      "Urdu:     یہ زندگی ہے تو پھر زندگی کو کیا کیجے\n",
      "Reference: ye zindagī hai to phir zindagī ko kyā kiije\n",
      "Prediction: yezararhaitohaiaaaakokyākaiije\n",
      "\n",
      "Example #5 (BLEU: 0.00, CER: 56.76%)\n",
      "Urdu:     کہانی میں تو کرداروں کو جو چاہے بنا دیجے\n",
      "Reference: kahānī meñ to kirdāroñ ko jo chāhe banā diije\n",
      "Prediction: kahāñhīmeñkokokyākahāñkohosaadliye\n",
      "\n",
      "--------------------------------------------------\n",
      "\n",
      "Exact Matches (37 examples):\n",
      "\n",
      "Example #1\n",
      "Urdu:     \n",
      "Reference: \n",
      "Prediction: \n",
      "\n",
      "Example #2\n",
      "Urdu:     \n",
      "Reference: \n",
      "Prediction: \n",
      "\n",
      "Example #3\n",
      "Urdu:     \n",
      "Reference: \n",
      "Prediction: \n",
      "\n",
      "Example #4\n",
      "Urdu:     \n",
      "Reference: \n",
      "Prediction: \n",
      "\n",
      "Example #5\n",
      "Urdu:     \n",
      "Reference: \n",
      "Prediction: \n",
      "\n",
      "==================================================\n",
      "ERROR PATTERN ANALYSIS\n",
      "==================================================\n",
      "\n",
      "Most Common Character Substitutions:\n",
      "'h' → 'a': 310 times\n",
      "'e' → 'a': 215 times\n",
      "'i' → 'a': 204 times\n",
      "'ā' → 'a': 190 times\n",
      "'r' → 'a': 185 times\n",
      "'a' → 'h': 174 times\n",
      "'s' → 'a': 163 times\n",
      "'u' → 'a': 131 times\n",
      "'k' → 'a': 127 times\n",
      "'ī' → 'a': 126 times\n",
      "\n",
      "Detailed results saved to 'detailed_evaluation_results.json'\n"
     ]
    }
   ],
   "source": [
    "# Load the best model from the best experiment\n",
    "best_model_name = best_result['name']\n",
    "checkpoint = torch.load(f\"{best_model_name}_best_model.pt\")\n",
    "\n",
    "# Initialize model with best configuration\n",
    "best_config = best_result['config']\n",
    "encoder = Encoder(vocab_size, best_config[\"embed_size\"], best_config[\"hidden_size\"], \n",
    "                  num_layers=best_config[\"num_layers_enc\"], dropout=best_config[\"dropout\"])\n",
    "decoder = Decoder(vocab_size, best_config[\"embed_size\"], best_config[\"hidden_size\"], \n",
    "                  num_layers=best_config[\"num_layers_dec\"], dropout=best_config[\"dropout\"])\n",
    "\n",
    "# Load state dictionaries\n",
    "encoder.load_state_dict(checkpoint['encoder'])\n",
    "decoder.load_state_dict(checkpoint['decoder'])\n",
    "\n",
    "# Move to device\n",
    "encoder.to(device)\n",
    "decoder.to(device)\n",
    "\n",
    "# Create transliterator with best model\n",
    "best_transliterator = Transliterator(encoder, decoder, tokenizer, device, best_config[\"num_layers_dec\"])\n",
    "\n",
    "# Run final comprehensive evaluation\n",
    "print(\"\\n\" + \"=\"*50)\n",
    "print(\"FINAL EVALUATION OF BEST MODEL\")\n",
    "print(\"=\"*50)\n",
    "final_results = evaluate_comprehensive(best_transliterator, test_pairs, num_samples=500)\n",
    "\n",
    "# Print summary metrics\n",
    "print(f\"BLEU Score: {final_results['avg_bleu']:.2f}\")\n",
    "print(f\"Character Error Rate (CER): {final_results['avg_cer']:.2%}\")\n",
    "print(f\"Word Error Rate (WER): {final_results['avg_wer']:.2%}\")\n",
    "print(f\"Exact Match Rate: {final_results['exact_match_rate']:.2%}\")\n",
    "print(f\"Perplexity: {final_results['perplexity']:.2f}\")\n",
    "print(\"=\"*50)\n",
    "\n",
    "# Display qualitative examples\n",
    "print(\"\\nQUALITATIVE EXAMPLES FROM BEST MODEL\")\n",
    "print(\"=\"*50)\n",
    "\n",
    "# Sort examples by BLEU score (worst first)\n",
    "examples_sorted = sorted(final_results[\"examples\"], key=lambda x: x[\"bleu\"])\n",
    "\n",
    "print(\"\\nTop 5 Worst Predictions (Low BLEU):\")\n",
    "for i, example in enumerate(examples_sorted[:5]):\n",
    "    print(f\"\\nExample #{i+1} (BLEU: {example['bleu']:.2f}, CER: {example['cer']:.2%})\")\n",
    "    print(f\"Urdu:     {example['urdu']}\")\n",
    "    print(f\"Reference: {example['reference']}\")\n",
    "    print(f\"Prediction: {example['prediction']}\")\n",
    "\n",
    "print(\"\\n\" + \"-\"*50)\n",
    "\n",
    "# Show best predictions\n",
    "examples_sorted_best = sorted(final_results[\"examples\"], key=lambda x: x[\"bleu\"], reverse=True)\n",
    "\n",
    "print(\"\\nTop 5 Best Predictions (High BLEU):\")\n",
    "for i, example in enumerate(examples_sorted_best[:5]):\n",
    "    print(f\"\\nExample #{i+1} (BLEU: {example['bleu']:.2f}, CER: {example['cer']:.2%})\")\n",
    "    print(f\"Urdu:     {example['urdu']}\")\n",
    "    print(f\"Reference: {example['reference']}\")\n",
    "    print(f\"Prediction: {example['prediction']}\")\n",
    "\n",
    "print(\"\\n\" + \"-\"*50)\n",
    "\n",
    "# Show exact matches\n",
    "exact_matches_examples = [ex for ex in final_results[\"examples\"] if ex[\"reference\"].strip() == ex[\"prediction\"].strip()]\n",
    "\n",
    "print(f\"\\nExact Matches ({len(exact_matches_examples)} examples):\")\n",
    "for i, example in enumerate(exact_matches_examples[:5]):\n",
    "    print(f\"\\nExample #{i+1}\")\n",
    "    print(f\"Urdu:     {example['urdu']}\")\n",
    "    print(f\"Reference: {example['reference']}\")\n",
    "    print(f\"Prediction: {example['prediction']}\")\n",
    "\n",
    "# Additional analysis: Error patterns\n",
    "print(\"\\n\" + \"=\"*50)\n",
    "print(\"ERROR PATTERN ANALYSIS\")\n",
    "print(\"=\"*50)\n",
    "\n",
    "# Analyze common character substitutions\n",
    "char_substitutions = defaultdict(int)\n",
    "for example in final_results[\"examples\"]:\n",
    "    ref = example[\"reference\"].replace(' ', '')\n",
    "    hyp = example[\"prediction\"].replace(' ', '')\n",
    "\n",
    "    # Align characters and find substitutions\n",
    "    for r, h in zip(ref, hyp):\n",
    "        if r != h:\n",
    "            char_substitutions[(r, h)] += 1\n",
    "\n",
    "print(\"\\nMost Common Character Substitutions:\")\n",
    "sorted_subs = sorted(char_substitutions.items(), key=lambda x: x[1], reverse=True)\n",
    "for (ref_char, hyp_char), count in sorted_subs[:10]:\n",
    "    print(f\"'{ref_char}' → '{hyp_char}': {count} times\")\n",
    "\n",
    "# Save detailed results\n",
    "detailed_results = {\n",
    "    \"timestamp\": time.strftime(\"%Y-%m-%d %H:%M:%S\"),\n",
    "    \"best_model\": best_model_name,\n",
    "    \"best_config\": best_config,\n",
    "    \"metrics\": {\n",
    "        \"bleu\": final_results[\"avg_bleu\"],\n",
    "        \"cer\": final_results[\"avg_cer\"],\n",
    "        \"wer\": final_results[\"avg_wer\"],\n",
    "        \"exact_match_rate\": final_results[\"exact_match_rate\"],\n",
    "        \"perplexity\": final_results[\"perplexity\"]\n",
    "    },\n",
    "    \"examples\": final_results[\"examples\"][:20],  # Save first 20 examples\n",
    "    \"error_patterns\": {f\"{k[0]}→{k[1]}\": v for k, v in sorted_subs[:10]}\n",
    "}\n",
    "\n",
    "with open(\"detailed_evaluation_results.json\", \"w\", encoding=\"utf-8\") as f:\n",
    "    json.dump(detailed_results, f, indent=2, ensure_ascii=False)\n",
    "\n",
    "print(f\"\\nDetailed results saved to 'detailed_evaluation_results.json'\")"
   ]
  },
  {
   "cell_type": "markdown",
   "metadata": {},
   "source": [
    "# 11. Save Best Model"
   ]
  },
  {
   "cell_type": "code",
   "execution_count": 14,
   "metadata": {
    "execution": {
     "iopub.execute_input": "2025-09-21T20:17:04.061849Z",
     "iopub.status.busy": "2025-09-21T20:17:04.061229Z",
     "iopub.status.idle": "2025-09-21T20:17:04.099348Z",
     "shell.execute_reply": "2025-09-21T20:17:04.098677Z",
     "shell.execute_reply.started": "2025-09-21T20:17:04.061821Z"
    },
    "trusted": true
   },
   "outputs": [
    {
     "name": "stdout",
     "output_type": "stream",
     "text": [
      "Best model (exp1) saved successfully!\n"
     ]
    }
   ],
   "source": [
    "# Save the best model with all necessary information\n",
    "torch.save({\n",
    "    'encoder': encoder.state_dict(),\n",
    "    'decoder': decoder.state_dict(),\n",
    "    'tokenizer_path': \"data/processed/bpe_tokenizer.json\",\n",
    "    'config': best_config,\n",
    "    'vocab_size': vocab_size,\n",
    "    'PAD_ID': PAD_ID,\n",
    "    'CLS_ID': CLS_ID,\n",
    "    'SEP_ID': SEP_ID,\n",
    "    'results': final_results,\n",
    "    'experiment_name': best_model_name\n",
    "}, 'urdu_to_roman_bilstm_model.pt')\n",
    "\n",
    "print(f\"Best model ({best_model_name}) saved successfully!\")"
   ]
  },
  {
   "cell_type": "markdown",
   "metadata": {},
   "source": [
    "# 12. Inference"
   ]
  },
  {
   "cell_type": "code",
   "execution_count": 19,
   "metadata": {
    "execution": {
     "iopub.execute_input": "2025-09-21T20:17:04.100874Z",
     "iopub.status.busy": "2025-09-21T20:17:04.100626Z",
     "iopub.status.idle": "2025-09-21T20:51:06.446541Z",
     "shell.execute_reply": "2025-09-21T20:51:06.445751Z",
     "shell.execute_reply.started": "2025-09-21T20:17:04.100855Z"
    },
    "trusted": true
   },
   "outputs": [
    {
     "name": "stdout",
     "output_type": "stream",
     "text": [
      "\n",
      "Testing the best model:\n",
      "Urdu: میرا نام یحییٰ ہے -> Roman: merānamanīīhai\n",
      "Urdu: میرا نام غیاث ہے -> Roman: merānamahāāhilhai\n",
      "Urdu: میں اردو بولتا ہوں -> Roman: maiñaadābhītohuuñ\n",
      "\n",
      "Try your own examples (type 'exit' to quit):\n",
      "Transliteration: kalhambazrjā.eñge\n"
     ]
    }
   ],
   "source": [
    "# Initialize transliterator with the best model\n",
    "transliterator = best_transliterator\n",
    "\n",
    "# Test with some examples\n",
    "test_examples = [\n",
    "    \"میرا نام یحییٰ ہے\",\n",
    "    \"میرا نام غیاث ہے\",\n",
    "    \"میں اردو بولتا ہوں\"\n",
    "]\n",
    "\n",
    "print(\"\\nTesting the best model:\")\n",
    "for example in test_examples:\n",
    "    transliteration = transliterator.transliterate(example)\n",
    "    print(f\"Urdu: {example} -> Roman: {transliteration}\")\n",
    "\n",
    "# Additional test with user input\n",
    "print(\"\\nTry your own examples (type 'exit' to quit):\")\n",
    "while True:\n",
    "    user_input = input(\"Enter Urdu text: \")\n",
    "    if user_input.lower() == 'exit':\n",
    "        break\n",
    "    transliteration = transliterator.transliterate(user_input)\n",
    "    print(f\"Transliteration: {transliteration}\")"
   ]
  }
 ],
 "metadata": {
  "kaggle": {
   "accelerator": "nvidiaTeslaT4",
   "dataSources": [],
   "dockerImageVersionId": 31090,
   "isGpuEnabled": true,
   "isInternetEnabled": true,
   "language": "python",
   "sourceType": "notebook"
  },
  "kernelspec": {
   "display_name": "Python 3",
   "language": "python",
   "name": "python3"
  },
  "language_info": {
   "codemirror_mode": {
    "name": "ipython",
    "version": 3
   },
   "file_extension": ".py",
   "mimetype": "text/x-python",
   "name": "python",
   "nbconvert_exporter": "python",
   "pygments_lexer": "ipython3",
   "version": "3.11.0"
  }
 },
 "nbformat": 4,
 "nbformat_minor": 4
}
